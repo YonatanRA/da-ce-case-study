{
 "cells": [
  {
   "cell_type": "markdown",
   "id": "b918d378",
   "metadata": {},
   "source": [
    "# 02. - Case Study IH Logistic Regression Multilabel Classification\n",
    "\n",
    "![mlr](../../../images/mlr.png)\n",
    "![mlr](https://github.com/YonatanRA/da-ce-case-study/blob/master/images/mlr.png)\n",
    "\n",
    "\n",
    "### A logistic Regression can classify between multiple labels?\n",
    "\n",
    "As we were seeing in the last lesson, logistic regression is a binary classifier. So how do we use logistic regression if we have more labels, more classes?. The solution is using a logistic regression for each one of them. Imagine we want classify movies according to its genre, then we make a logistic regression for every single genre. It's that genre or it is not. The highest probability among all logistic regression is the selected prediction output. This method is called **One-vs-All**. \n",
    "\n",
    "If you want to know more about the mathematics behind logistic regression, take a look to this [notebook](https://github.com/YonatanRA/da-ce-case-study/blob/master/01-lesson-plans/3.08_multi_class_logistic_regression/ipynb/3.8.3%20-%20Logistic%20Regression%20Mathematics.ipynb), it is an example of handwritten numbers (MNIST data) classification.\n",
    "\n",
    "\n",
    "\n",
    "![telecom](../../../images/telecom.jpeg)\n",
    "![telecom](https://github.com/YonatanRA/da-ce-case-study/blob/master/images/telecom.jpeg)\n",
    "\n",
    "\n",
    "Let's come back to the telecom company at we were working. Now, the churn model is running, kind of..😅, and the management ask for another project. This idea is part of a bigger marketing plan, but they need to know what kind of contract offer to the customers. \n",
    "\n",
    "So idea is to build a predictive model for the kind of contract. The contract types are monthly, one year or two year. We have three different classes or labels. As we were saying, we need to build three differents logistic regressions:\n",
    "\n",
    "+ Is it a monthly contract or not?\n",
    "+ Is it a one year contract or not?\n",
    "+ Is it a two year contract or not?\n",
    "\n",
    "These are our three classifiers in plain english. The output will be a three elements array and we will choose the highest value as our prediction. Scikit-Learn does all of this for us. \n",
    "\n",
    "First we will import our libraries.\n"
   ]
  },
  {
   "cell_type": "code",
   "execution_count": 1,
   "id": "a3059703",
   "metadata": {},
   "outputs": [],
   "source": [
    "import pandas as pd                                # panel data, for handling dataframes\n",
    "pd.set_option('display.max_columns', None)         # show all columns of the dataframe\n",
    "\n",
    "import numpy as np                                 # numerical python, linear algebra library\n",
    "\n",
    "import pylab as plt                                # plotting library\n",
    "import seaborn as sns                              # plotting library\n",
    "sns.set(style='white')                             # seaborn style\n",
    "\n",
    "from sqlalchemy import create_engine               # connection engine for SQL server\n",
    "\n",
    "\n",
    "from sklearn.linear_model import LogisticRegression            # logistic regression model            \n",
    "from sklearn.preprocessing import StandardScaler               # standarized\n",
    "from sklearn.preprocessing import LabelEncoder               \n",
    "from sklearn.model_selection import train_test_split as tts    # split data into train and test sets\n",
    "\n",
    "\n",
    "from sklearn.metrics import confusion_matrix as cm      # confusion matrix for evaluation\n",
    "from sklearn.metrics import f1_score as f1              # F1-score for evaluation\n",
    "\n",
    "from sklearn.feature_selection import RFE               # recursive feature elimination"
   ]
  },
  {
   "cell_type": "markdown",
   "id": "be7c8e40",
   "metadata": {},
   "source": [
    "### Accesing data\n",
    "\n",
    "Again, we make the connection to SQL server and load that temporary table we had in our database."
   ]
  },
  {
   "cell_type": "code",
   "execution_count": 2,
   "id": "2f214247",
   "metadata": {},
   "outputs": [],
   "source": [
    "DB_LANG='mysql'             # database language\n",
    "\n",
    "DRIVER='pymysql'            # database driver\n",
    "\n",
    "USER='root'                 # user name\n",
    "\n",
    "PASSWORD='password'         # user password\n",
    "\n",
    "HOST='localhost'            # host SQL server\n",
    "\n",
    "PORT='3306'                 # host port\n",
    "\n",
    "SCHEMA='telcom'             # database schema name"
   ]
  },
  {
   "cell_type": "code",
   "execution_count": 3,
   "id": "96cc2683",
   "metadata": {},
   "outputs": [],
   "source": [
    "connection_string=f'{DB_LANG}+{DRIVER}://{USER}:{PASSWORD}@{HOST}:{PORT}/{SCHEMA}'\n",
    "\n",
    "        \n",
    "engine=create_engine(connection_string)   # connection engine"
   ]
  },
  {
   "cell_type": "code",
   "execution_count": 4,
   "id": "5e1dab38",
   "metadata": {},
   "outputs": [],
   "source": [
    "df=pd.read_sql('select * from temporary_table', engine)"
   ]
  },
  {
   "cell_type": "markdown",
   "id": "d94a3752",
   "metadata": {},
   "source": [
    "### EDA\n",
    "\n",
    "We already did the EDA process before. But we need to know more about our new target, the `Contract` type."
   ]
  },
  {
   "cell_type": "code",
   "execution_count": 5,
   "id": "b451e0ad",
   "metadata": {},
   "outputs": [
    {
     "data": {
      "text/plain": [
       "Month-to-month    27416\n",
       "Two year          11920\n",
       "One year          10416\n",
       "Name: Contract, dtype: int64"
      ]
     },
     "execution_count": 5,
     "metadata": {},
     "output_type": "execute_result"
    }
   ],
   "source": [
    "df.Contract.value_counts()"
   ]
  },
  {
   "cell_type": "code",
   "execution_count": 6,
   "id": "3f15267b",
   "metadata": {},
   "outputs": [
    {
     "data": {
      "text/plain": [
       "Month-to-month    0.551053\n",
       "Two year          0.239588\n",
       "One year          0.209358\n",
       "Name: Contract, dtype: float64"
      ]
     },
     "execution_count": 6,
     "metadata": {},
     "output_type": "execute_result"
    }
   ],
   "source": [
    "df.Contract.value_counts()/len(df)"
   ]
  },
  {
   "cell_type": "code",
   "execution_count": 7,
   "id": "f06816be",
   "metadata": {},
   "outputs": [
    {
     "data": {
      "image/png": "[encoded data removed]",
      "text/plain": [
       "<Figure size 720x432 with 1 Axes>"
      ]
     },
     "metadata": {},
     "output_type": "display_data"
    }
   ],
   "source": [
    "(df.Contract.value_counts()/len(df)).plot.bar(color=['b', 'r', 'g'],    \n",
    "                                           figsize=(10, 6),\n",
    "                                           title='Contract type',\n",
    "                                           rot=0,\n",
    "                                           fontsize=12);"
   ]
  },
  {
   "cell_type": "markdown",
   "id": "3bfda80b",
   "metadata": {},
   "source": [
    "We can our main customers have monthly contracts, 55% of them. As we were discussing, the imbalance among classes generate a bias in the model. We will try to fix later. Now, we'll make the same data transformation as before.\n",
    "\n",
    "### Data transformation"
   ]
  },
  {
   "cell_type": "code",
   "execution_count": 8,
   "id": "8297990c",
   "metadata": {},
   "outputs": [],
   "source": [
    "def change_all_dtypes(df):   \n",
    "    '''\n",
    "    This function change all dtypes to float if it can.\n",
    "    \n",
    "    input param df:  dataframe to be change\n",
    "    \n",
    "    returns: clean dataframe\n",
    "    '''\n",
    "    \n",
    "    for c in df.columns:\n",
    "        try:\n",
    "            df[c]=df[c].astype(float)\n",
    "        except:\n",
    "            continue\n",
    "            \n",
    "    return df"
   ]
  },
  {
   "cell_type": "code",
   "execution_count": 9,
   "id": "5071bae5",
   "metadata": {},
   "outputs": [],
   "source": [
    "df=change_all_dtypes(df)   # change dtypes"
   ]
  },
  {
   "cell_type": "code",
   "execution_count": 10,
   "id": "9e791c6e",
   "metadata": {},
   "outputs": [],
   "source": [
    "# dropping columns\n",
    "\n",
    "data=df.drop(columns=['CustomerID',\n",
    "                      'MonthlyMinutes',\n",
    "                      'HandsetModels',\n",
    "                      'id',\n",
    "                      'Handsets',\n",
    "                      'ReceivedCalls',\n",
    "                      'MonthsInService',\n",
    "                      'ServiceArea'\n",
    "                     ])"
   ]
  },
  {
   "cell_type": "code",
   "execution_count": 11,
   "id": "1e353511",
   "metadata": {},
   "outputs": [],
   "source": [
    "data_num=pd.DataFrame(StandardScaler().fit_transform(data._get_numeric_data()),  # standardize numeric columns\n",
    "                      columns=data._get_numeric_data().columns)\n",
    "\n",
    "data_obj=data.select_dtypes(include='object')  # get categoric columns\n",
    "\n",
    "\n",
    "data=pd.concat([data_num, data_obj], axis=1)   # concatenate both dataframes"
   ]
  },
  {
   "cell_type": "code",
   "execution_count": 12,
   "id": "3990580c",
   "metadata": {},
   "outputs": [],
   "source": [
    "# label encoding \n",
    "\n",
    "le=LabelEncoder()\n",
    "\n",
    "for c in data.columns:\n",
    "    if data.dtypes[c]==object:\n",
    "        le.fit(data[c].astype(str))\n",
    "        data[c]=le.transform(data[c].astype(str))"
   ]
  },
  {
   "cell_type": "code",
   "execution_count": 13,
   "id": "1fa105b2",
   "metadata": {},
   "outputs": [
    {
     "data": {
      "text/plain": [
       "(49752, 67)"
      ]
     },
     "execution_count": 13,
     "metadata": {},
     "output_type": "execute_result"
    }
   ],
   "source": [
    "data.shape     # dataframe dimensions"
   ]
  },
  {
   "cell_type": "code",
   "execution_count": 14,
   "id": "972e877c",
   "metadata": {},
   "outputs": [
    {
     "data": {
      "text/html": [
       "<div>\n",
       "<style scoped>\n",
       "    .dataframe tbody tr th:only-of-type {\n",
       "        vertical-align: middle;\n",
       "    }\n",
       "\n",
       "    .dataframe tbody tr th {\n",
       "        vertical-align: top;\n",
       "    }\n",
       "\n",
       "    .dataframe thead th {\n",
       "        text-align: right;\n",
       "    }\n",
       "</style>\n",
       "<table border=\"1\" class=\"dataframe\">\n",
       "  <thead>\n",
       "    <tr style=\"text-align: right;\">\n",
       "      <th></th>\n",
       "      <th>MonthlyRevenue</th>\n",
       "      <th>TotalRecurringCharge</th>\n",
       "      <th>DirectorAssistedCalls</th>\n",
       "      <th>OverageMinutes</th>\n",
       "      <th>RoamingCalls</th>\n",
       "      <th>PercChangeMinutes</th>\n",
       "      <th>PercChangeRevenues</th>\n",
       "      <th>DroppedCalls</th>\n",
       "      <th>BlockedCalls</th>\n",
       "      <th>UnansweredCalls</th>\n",
       "      <th>CustomerCareCalls</th>\n",
       "      <th>ThreewayCalls</th>\n",
       "      <th>OutboundCalls</th>\n",
       "      <th>InboundCalls</th>\n",
       "      <th>PeakCallsInOut</th>\n",
       "      <th>OffPeakCallsInOut</th>\n",
       "      <th>DroppedBlockedCalls</th>\n",
       "      <th>CallForwardingCalls</th>\n",
       "      <th>CallWaitingCalls</th>\n",
       "      <th>UniqueSubs</th>\n",
       "      <th>ActiveSubs</th>\n",
       "      <th>CurrentEquipmentDays</th>\n",
       "      <th>AgeHH1</th>\n",
       "      <th>AgeHH2</th>\n",
       "      <th>RetentionCalls</th>\n",
       "      <th>RetentionOffersAccepted</th>\n",
       "      <th>ReferralsMadeBySubscriber</th>\n",
       "      <th>IncomeGroup</th>\n",
       "      <th>AdjustmentsToCreditRating</th>\n",
       "      <th>SeniorCitizen</th>\n",
       "      <th>Tenure</th>\n",
       "      <th>Churn</th>\n",
       "      <th>ChildrenInHH</th>\n",
       "      <th>HandsetRefurbished</th>\n",
       "      <th>HandsetWebCapable</th>\n",
       "      <th>TruckOwner</th>\n",
       "      <th>RVOwner</th>\n",
       "      <th>Homeownership</th>\n",
       "      <th>BuysViaMailOrder</th>\n",
       "      <th>RespondsToMailOffers</th>\n",
       "      <th>OptOutMailings</th>\n",
       "      <th>NonUSTravel</th>\n",
       "      <th>OwnsComputer</th>\n",
       "      <th>HasCreditCard</th>\n",
       "      <th>NewCellphoneUser</th>\n",
       "      <th>NotNewCellphoneUser</th>\n",
       "      <th>OwnsMotorcycle</th>\n",
       "      <th>HandsetPrice</th>\n",
       "      <th>MadeCallToRetentionTeam</th>\n",
       "      <th>CreditRating</th>\n",
       "      <th>PrizmCode</th>\n",
       "      <th>Occupation</th>\n",
       "      <th>MaritalStatus</th>\n",
       "      <th>Gender</th>\n",
       "      <th>Partner</th>\n",
       "      <th>Dependents</th>\n",
       "      <th>InternetService</th>\n",
       "      <th>OnlineSecurity</th>\n",
       "      <th>OnlineBackup</th>\n",
       "      <th>DeviceProtection</th>\n",
       "      <th>TechSupport</th>\n",
       "      <th>StreamingTV</th>\n",
       "      <th>StreamingMovies</th>\n",
       "      <th>Contract</th>\n",
       "      <th>PaperlessBilling</th>\n",
       "      <th>PaymentMethod</th>\n",
       "      <th>TenureLevel</th>\n",
       "    </tr>\n",
       "  </thead>\n",
       "  <tbody>\n",
       "    <tr>\n",
       "      <th>0</th>\n",
       "      <td>-0.783391</td>\n",
       "      <td>-1.045275</td>\n",
       "      <td>-0.288506</td>\n",
       "      <td>-0.413714</td>\n",
       "      <td>-0.124522</td>\n",
       "      <td>-0.568070</td>\n",
       "      <td>-0.452482</td>\n",
       "      <td>-0.587674</td>\n",
       "      <td>-0.311711</td>\n",
       "      <td>-0.565902</td>\n",
       "      <td>-0.366649</td>\n",
       "      <td>-0.254828</td>\n",
       "      <td>-0.723803</td>\n",
       "      <td>-0.492182</td>\n",
       "      <td>-0.310234</td>\n",
       "      <td>-0.471357</td>\n",
       "      <td>-0.572545</td>\n",
       "      <td>-0.020214</td>\n",
       "      <td>-0.274974</td>\n",
       "      <td>0.384227</td>\n",
       "      <td>-0.525372</td>\n",
       "      <td>-0.075394</td>\n",
       "      <td>1.387951</td>\n",
       "      <td>-0.883862</td>\n",
       "      <td>4.775674</td>\n",
       "      <td>-0.128321</td>\n",
       "      <td>-0.193162</td>\n",
       "      <td>-0.129459</td>\n",
       "      <td>-0.140293</td>\n",
       "      <td>-0.438968</td>\n",
       "      <td>1.327621</td>\n",
       "      <td>1</td>\n",
       "      <td>0</td>\n",
       "      <td>0</td>\n",
       "      <td>1</td>\n",
       "      <td>0</td>\n",
       "      <td>0</td>\n",
       "      <td>0</td>\n",
       "      <td>1</td>\n",
       "      <td>1</td>\n",
       "      <td>0</td>\n",
       "      <td>0</td>\n",
       "      <td>1</td>\n",
       "      <td>1</td>\n",
       "      <td>0</td>\n",
       "      <td>0</td>\n",
       "      <td>0</td>\n",
       "      <td>8</td>\n",
       "      <td>1</td>\n",
       "      <td>0</td>\n",
       "      <td>2</td>\n",
       "      <td>4</td>\n",
       "      <td>0</td>\n",
       "      <td>0</td>\n",
       "      <td>0</td>\n",
       "      <td>0</td>\n",
       "      <td>0</td>\n",
       "      <td>2</td>\n",
       "      <td>2</td>\n",
       "      <td>2</td>\n",
       "      <td>2</td>\n",
       "      <td>2</td>\n",
       "      <td>2</td>\n",
       "      <td>2</td>\n",
       "      <td>1</td>\n",
       "      <td>0</td>\n",
       "      <td>3</td>\n",
       "    </tr>\n",
       "    <tr>\n",
       "      <th>1</th>\n",
       "      <td>-0.941570</td>\n",
       "      <td>-1.255720</td>\n",
       "      <td>-0.400881</td>\n",
       "      <td>-0.413714</td>\n",
       "      <td>-0.124522</td>\n",
       "      <td>0.029924</td>\n",
       "      <td>0.029852</td>\n",
       "      <td>-0.631939</td>\n",
       "      <td>-0.376308</td>\n",
       "      <td>-0.658542</td>\n",
       "      <td>-0.366649</td>\n",
       "      <td>-0.254828</td>\n",
       "      <td>-0.723803</td>\n",
       "      <td>-0.492182</td>\n",
       "      <td>-0.816926</td>\n",
       "      <td>-0.719375</td>\n",
       "      <td>-0.637245</td>\n",
       "      <td>-0.020214</td>\n",
       "      <td>-0.328636</td>\n",
       "      <td>-0.431548</td>\n",
       "      <td>-0.525372</td>\n",
       "      <td>4.455151</td>\n",
       "      <td>0.392087</td>\n",
       "      <td>0.871525</td>\n",
       "      <td>-0.175756</td>\n",
       "      <td>-0.128321</td>\n",
       "      <td>-0.193162</td>\n",
       "      <td>0.192036</td>\n",
       "      <td>-0.140293</td>\n",
       "      <td>-0.438968</td>\n",
       "      <td>0.838668</td>\n",
       "      <td>1</td>\n",
       "      <td>1</td>\n",
       "      <td>0</td>\n",
       "      <td>0</td>\n",
       "      <td>0</td>\n",
       "      <td>0</td>\n",
       "      <td>0</td>\n",
       "      <td>1</td>\n",
       "      <td>1</td>\n",
       "      <td>0</td>\n",
       "      <td>0</td>\n",
       "      <td>1</td>\n",
       "      <td>1</td>\n",
       "      <td>1</td>\n",
       "      <td>0</td>\n",
       "      <td>0</td>\n",
       "      <td>8</td>\n",
       "      <td>0</td>\n",
       "      <td>3</td>\n",
       "      <td>2</td>\n",
       "      <td>4</td>\n",
       "      <td>2</td>\n",
       "      <td>1</td>\n",
       "      <td>0</td>\n",
       "      <td>1</td>\n",
       "      <td>0</td>\n",
       "      <td>2</td>\n",
       "      <td>2</td>\n",
       "      <td>0</td>\n",
       "      <td>2</td>\n",
       "      <td>0</td>\n",
       "      <td>0</td>\n",
       "      <td>1</td>\n",
       "      <td>0</td>\n",
       "      <td>1</td>\n",
       "      <td>0</td>\n",
       "    </tr>\n",
       "    <tr>\n",
       "      <th>2</th>\n",
       "      <td>-0.467484</td>\n",
       "      <td>-0.371853</td>\n",
       "      <td>-0.400881</td>\n",
       "      <td>-0.413714</td>\n",
       "      <td>-0.124522</td>\n",
       "      <td>0.037741</td>\n",
       "      <td>0.029852</td>\n",
       "      <td>-0.665137</td>\n",
       "      <td>-0.376308</td>\n",
       "      <td>-0.728022</td>\n",
       "      <td>-0.366649</td>\n",
       "      <td>-0.254828</td>\n",
       "      <td>-0.715237</td>\n",
       "      <td>-0.492182</td>\n",
       "      <td>-0.852299</td>\n",
       "      <td>-0.690260</td>\n",
       "      <td>-0.656655</td>\n",
       "      <td>-0.020214</td>\n",
       "      <td>-0.328636</td>\n",
       "      <td>-0.431548</td>\n",
       "      <td>-0.525372</td>\n",
       "      <td>5.675981</td>\n",
       "      <td>-0.241644</td>\n",
       "      <td>0.202806</td>\n",
       "      <td>-0.175756</td>\n",
       "      <td>-0.128321</td>\n",
       "      <td>-0.193162</td>\n",
       "      <td>0.513532</td>\n",
       "      <td>-0.140293</td>\n",
       "      <td>-0.438968</td>\n",
       "      <td>-1.280129</td>\n",
       "      <td>0</td>\n",
       "      <td>1</td>\n",
       "      <td>0</td>\n",
       "      <td>0</td>\n",
       "      <td>0</td>\n",
       "      <td>0</td>\n",
       "      <td>1</td>\n",
       "      <td>0</td>\n",
       "      <td>0</td>\n",
       "      <td>0</td>\n",
       "      <td>0</td>\n",
       "      <td>0</td>\n",
       "      <td>1</td>\n",
       "      <td>1</td>\n",
       "      <td>0</td>\n",
       "      <td>0</td>\n",
       "      <td>15</td>\n",
       "      <td>0</td>\n",
       "      <td>2</td>\n",
       "      <td>3</td>\n",
       "      <td>1</td>\n",
       "      <td>2</td>\n",
       "      <td>0</td>\n",
       "      <td>0</td>\n",
       "      <td>0</td>\n",
       "      <td>0</td>\n",
       "      <td>0</td>\n",
       "      <td>0</td>\n",
       "      <td>0</td>\n",
       "      <td>0</td>\n",
       "      <td>0</td>\n",
       "      <td>2</td>\n",
       "      <td>0</td>\n",
       "      <td>1</td>\n",
       "      <td>2</td>\n",
       "      <td>1</td>\n",
       "    </tr>\n",
       "    <tr>\n",
       "      <th>3</th>\n",
       "      <td>0.531686</td>\n",
       "      <td>1.185434</td>\n",
       "      <td>0.156497</td>\n",
       "      <td>-0.413714</td>\n",
       "      <td>-0.124522</td>\n",
       "      <td>0.659185</td>\n",
       "      <td>0.235479</td>\n",
       "      <td>5.089263</td>\n",
       "      <td>0.334262</td>\n",
       "      <td>1.227715</td>\n",
       "      <td>0.474635</td>\n",
       "      <td>0.855266</td>\n",
       "      <td>9.849010</td>\n",
       "      <td>8.370346</td>\n",
       "      <td>4.447898</td>\n",
       "      <td>2.544760</td>\n",
       "      <td>3.205954</td>\n",
       "      <td>-0.020214</td>\n",
       "      <td>3.731853</td>\n",
       "      <td>0.384227</td>\n",
       "      <td>0.972010</td>\n",
       "      <td>0.309088</td>\n",
       "      <td>-0.060578</td>\n",
       "      <td>-0.883862</td>\n",
       "      <td>-0.175756</td>\n",
       "      <td>-0.128321</td>\n",
       "      <td>-0.193162</td>\n",
       "      <td>0.513532</td>\n",
       "      <td>-0.140293</td>\n",
       "      <td>-0.438968</td>\n",
       "      <td>0.105238</td>\n",
       "      <td>0</td>\n",
       "      <td>0</td>\n",
       "      <td>0</td>\n",
       "      <td>1</td>\n",
       "      <td>0</td>\n",
       "      <td>0</td>\n",
       "      <td>0</td>\n",
       "      <td>1</td>\n",
       "      <td>1</td>\n",
       "      <td>0</td>\n",
       "      <td>0</td>\n",
       "      <td>0</td>\n",
       "      <td>1</td>\n",
       "      <td>1</td>\n",
       "      <td>0</td>\n",
       "      <td>0</td>\n",
       "      <td>0</td>\n",
       "      <td>0</td>\n",
       "      <td>3</td>\n",
       "      <td>0</td>\n",
       "      <td>3</td>\n",
       "      <td>0</td>\n",
       "      <td>0</td>\n",
       "      <td>1</td>\n",
       "      <td>1</td>\n",
       "      <td>2</td>\n",
       "      <td>1</td>\n",
       "      <td>1</td>\n",
       "      <td>1</td>\n",
       "      <td>1</td>\n",
       "      <td>1</td>\n",
       "      <td>1</td>\n",
       "      <td>2</td>\n",
       "      <td>0</td>\n",
       "      <td>1</td>\n",
       "      <td>2</td>\n",
       "    </tr>\n",
       "    <tr>\n",
       "      <th>4</th>\n",
       "      <td>-0.938185</td>\n",
       "      <td>-1.255720</td>\n",
       "      <td>-0.400881</td>\n",
       "      <td>-0.413714</td>\n",
       "      <td>-0.124522</td>\n",
       "      <td>0.045558</td>\n",
       "      <td>0.024775</td>\n",
       "      <td>-0.665137</td>\n",
       "      <td>-0.376308</td>\n",
       "      <td>-0.728022</td>\n",
       "      <td>-0.366649</td>\n",
       "      <td>-0.254828</td>\n",
       "      <td>-0.723803</td>\n",
       "      <td>-0.492182</td>\n",
       "      <td>-0.864728</td>\n",
       "      <td>-0.730159</td>\n",
       "      <td>-0.656655</td>\n",
       "      <td>-0.020214</td>\n",
       "      <td>-0.328636</td>\n",
       "      <td>0.384227</td>\n",
       "      <td>0.972010</td>\n",
       "      <td>1.870799</td>\n",
       "      <td>0.663686</td>\n",
       "      <td>1.373064</td>\n",
       "      <td>-0.175756</td>\n",
       "      <td>-0.128321</td>\n",
       "      <td>-0.193162</td>\n",
       "      <td>1.478017</td>\n",
       "      <td>2.472906</td>\n",
       "      <td>-0.438968</td>\n",
       "      <td>-0.017000</td>\n",
       "      <td>1</td>\n",
       "      <td>0</td>\n",
       "      <td>0</td>\n",
       "      <td>0</td>\n",
       "      <td>0</td>\n",
       "      <td>0</td>\n",
       "      <td>0</td>\n",
       "      <td>1</td>\n",
       "      <td>1</td>\n",
       "      <td>0</td>\n",
       "      <td>0</td>\n",
       "      <td>1</td>\n",
       "      <td>1</td>\n",
       "      <td>0</td>\n",
       "      <td>1</td>\n",
       "      <td>0</td>\n",
       "      <td>0</td>\n",
       "      <td>0</td>\n",
       "      <td>0</td>\n",
       "      <td>0</td>\n",
       "      <td>4</td>\n",
       "      <td>2</td>\n",
       "      <td>0</td>\n",
       "      <td>0</td>\n",
       "      <td>0</td>\n",
       "      <td>1</td>\n",
       "      <td>2</td>\n",
       "      <td>0</td>\n",
       "      <td>2</td>\n",
       "      <td>2</td>\n",
       "      <td>2</td>\n",
       "      <td>2</td>\n",
       "      <td>1</td>\n",
       "      <td>1</td>\n",
       "      <td>0</td>\n",
       "      <td>0</td>\n",
       "    </tr>\n",
       "  </tbody>\n",
       "</table>\n",
       "</div>"
      ],
      "text/plain": [
       "   MonthlyRevenue  TotalRecurringCharge  DirectorAssistedCalls  \\\n",
       "0       -0.783391             -1.045275              -0.288506   \n",
       "1       -0.941570             -1.255720              -0.400881   \n",
       "2       -0.467484             -0.371853              -0.400881   \n",
       "3        0.531686              1.185434               0.156497   \n",
       "4       -0.938185             -1.255720              -0.400881   \n",
       "\n",
       "   OverageMinutes  RoamingCalls  PercChangeMinutes  PercChangeRevenues  \\\n",
       "0       -0.413714     -0.124522          -0.568070           -0.452482   \n",
       "1       -0.413714     -0.124522           0.029924            0.029852   \n",
       "2       -0.413714     -0.124522           0.037741            0.029852   \n",
       "3       -0.413714     -0.124522           0.659185            0.235479   \n",
       "4       -0.413714     -0.124522           0.045558            0.024775   \n",
       "\n",
       "   DroppedCalls  BlockedCalls  UnansweredCalls  CustomerCareCalls  \\\n",
       "0     -0.587674     -0.311711        -0.565902          -0.366649   \n",
       "1     -0.631939     -0.376308        -0.658542          -0.366649   \n",
       "2     -0.665137     -0.376308        -0.728022          -0.366649   \n",
       "3      5.089263      0.334262         1.227715           0.474635   \n",
       "4     -0.665137     -0.376308        -0.728022          -0.366649   \n",
       "\n",
       "   ThreewayCalls  OutboundCalls  InboundCalls  PeakCallsInOut  \\\n",
       "0      -0.254828      -0.723803     -0.492182       -0.310234   \n",
       "1      -0.254828      -0.723803     -0.492182       -0.816926   \n",
       "2      -0.254828      -0.715237     -0.492182       -0.852299   \n",
       "3       0.855266       9.849010      8.370346        4.447898   \n",
       "4      -0.254828      -0.723803     -0.492182       -0.864728   \n",
       "\n",
       "   OffPeakCallsInOut  DroppedBlockedCalls  CallForwardingCalls  \\\n",
       "0          -0.471357            -0.572545            -0.020214   \n",
       "1          -0.719375            -0.637245            -0.020214   \n",
       "2          -0.690260            -0.656655            -0.020214   \n",
       "3           2.544760             3.205954            -0.020214   \n",
       "4          -0.730159            -0.656655            -0.020214   \n",
       "\n",
       "   CallWaitingCalls  UniqueSubs  ActiveSubs  CurrentEquipmentDays    AgeHH1  \\\n",
       "0         -0.274974    0.384227   -0.525372             -0.075394  1.387951   \n",
       "1         -0.328636   -0.431548   -0.525372              4.455151  0.392087   \n",
       "2         -0.328636   -0.431548   -0.525372              5.675981 -0.241644   \n",
       "3          3.731853    0.384227    0.972010              0.309088 -0.060578   \n",
       "4         -0.328636    0.384227    0.972010              1.870799  0.663686   \n",
       "\n",
       "     AgeHH2  RetentionCalls  RetentionOffersAccepted  \\\n",
       "0 -0.883862        4.775674                -0.128321   \n",
       "1  0.871525       -0.175756                -0.128321   \n",
       "2  0.202806       -0.175756                -0.128321   \n",
       "3 -0.883862       -0.175756                -0.128321   \n",
       "4  1.373064       -0.175756                -0.128321   \n",
       "\n",
       "   ReferralsMadeBySubscriber  IncomeGroup  AdjustmentsToCreditRating  \\\n",
       "0                  -0.193162    -0.129459                  -0.140293   \n",
       "1                  -0.193162     0.192036                  -0.140293   \n",
       "2                  -0.193162     0.513532                  -0.140293   \n",
       "3                  -0.193162     0.513532                  -0.140293   \n",
       "4                  -0.193162     1.478017                   2.472906   \n",
       "\n",
       "   SeniorCitizen    Tenure  Churn  ChildrenInHH  HandsetRefurbished  \\\n",
       "0      -0.438968  1.327621      1             0                   0   \n",
       "1      -0.438968  0.838668      1             1                   0   \n",
       "2      -0.438968 -1.280129      0             1                   0   \n",
       "3      -0.438968  0.105238      0             0                   0   \n",
       "4      -0.438968 -0.017000      1             0                   0   \n",
       "\n",
       "   HandsetWebCapable  TruckOwner  RVOwner  Homeownership  BuysViaMailOrder  \\\n",
       "0                  1           0        0              0                 1   \n",
       "1                  0           0        0              0                 1   \n",
       "2                  0           0        0              1                 0   \n",
       "3                  1           0        0              0                 1   \n",
       "4                  0           0        0              0                 1   \n",
       "\n",
       "   RespondsToMailOffers  OptOutMailings  NonUSTravel  OwnsComputer  \\\n",
       "0                     1               0            0             1   \n",
       "1                     1               0            0             1   \n",
       "2                     0               0            0             0   \n",
       "3                     1               0            0             0   \n",
       "4                     1               0            0             1   \n",
       "\n",
       "   HasCreditCard  NewCellphoneUser  NotNewCellphoneUser  OwnsMotorcycle  \\\n",
       "0              1                 0                    0               0   \n",
       "1              1                 1                    0               0   \n",
       "2              1                 1                    0               0   \n",
       "3              1                 1                    0               0   \n",
       "4              1                 0                    1               0   \n",
       "\n",
       "   HandsetPrice  MadeCallToRetentionTeam  CreditRating  PrizmCode  Occupation  \\\n",
       "0             8                        1             0          2           4   \n",
       "1             8                        0             3          2           4   \n",
       "2            15                        0             2          3           1   \n",
       "3             0                        0             3          0           3   \n",
       "4             0                        0             0          0           4   \n",
       "\n",
       "   MaritalStatus  Gender  Partner  Dependents  InternetService  \\\n",
       "0              0       0        0           0                0   \n",
       "1              2       1        0           1                0   \n",
       "2              2       0        0           0                0   \n",
       "3              0       0        1           1                2   \n",
       "4              2       0        0           0                1   \n",
       "\n",
       "   OnlineSecurity  OnlineBackup  DeviceProtection  TechSupport  StreamingTV  \\\n",
       "0               2             2                 2            2            2   \n",
       "1               2             2                 0            2            0   \n",
       "2               0             0                 0            0            0   \n",
       "3               1             1                 1            1            1   \n",
       "4               2             0                 2            2            2   \n",
       "\n",
       "   StreamingMovies  Contract  PaperlessBilling  PaymentMethod  TenureLevel  \n",
       "0                2         2                 1              0            3  \n",
       "1                0         1                 0              1            0  \n",
       "2                2         0                 1              2            1  \n",
       "3                1         2                 0              1            2  \n",
       "4                2         1                 1              0            0  "
      ]
     },
     "execution_count": 14,
     "metadata": {},
     "output_type": "execute_result"
    }
   ],
   "source": [
    "data.head()"
   ]
  },
  {
   "cell_type": "markdown",
   "id": "5edcbfcc",
   "metadata": {},
   "source": [
    "### Modeling\n",
    "\n",
    "We have again the data prepared to modeling. The first thing we need to do is split the data into the X features and the y target (contract)."
   ]
  },
  {
   "cell_type": "code",
   "execution_count": 15,
   "id": "19a5c7ec",
   "metadata": {},
   "outputs": [],
   "source": [
    "X=data.drop('Contract', axis=1)   # all data except target\n",
    "\n",
    "y=data.Contract               # target data"
   ]
  },
  {
   "cell_type": "code",
   "execution_count": 16,
   "id": "cce6860d",
   "metadata": {},
   "outputs": [
    {
     "data": {
      "text/plain": [
       "array([2, 1, 0])"
      ]
     },
     "execution_count": 16,
     "metadata": {},
     "output_type": "execute_result"
    }
   ],
   "source": [
    "y.unique()   # 3 labels"
   ]
  },
  {
   "cell_type": "markdown",
   "id": "4786918e",
   "metadata": {},
   "source": [
    "Now we split the data into train and test datasets in order to train the model and then evaluate it."
   ]
  },
  {
   "cell_type": "code",
   "execution_count": 17,
   "id": "412be40a",
   "metadata": {},
   "outputs": [],
   "source": [
    "X_train, X_test, y_train, y_test=tts(X, y, random_state=42)   # split data into train and test sets"
   ]
  },
  {
   "cell_type": "markdown",
   "id": "5c198772",
   "metadata": {},
   "source": [
    "It is time to call our `LogisticRegression` and fit it. This time the sklearn package will do the job for all labels."
   ]
  },
  {
   "cell_type": "code",
   "execution_count": 18,
   "id": "4ca1f956",
   "metadata": {},
   "outputs": [
    {
     "data": {
      "text/plain": [
       "LogisticRegression(max_iter=2000)"
      ]
     },
     "execution_count": 18,
     "metadata": {},
     "output_type": "execute_result"
    }
   ],
   "source": [
    "# logistic regression model\n",
    "\n",
    "logreg=LogisticRegression(max_iter=2000)\n",
    "\n",
    "logreg.fit(X_train, y_train)"
   ]
  },
  {
   "cell_type": "markdown",
   "id": "8fcdf158",
   "metadata": {},
   "source": [
    "From this point we are able to make our customer contract type predictions."
   ]
  },
  {
   "cell_type": "code",
   "execution_count": 19,
   "id": "9a100e77",
   "metadata": {},
   "outputs": [
    {
     "data": {
      "text/plain": [
       "array([2, 0, 0, 1, 0, 2, 1, 2, 0, 2])"
      ]
     },
     "execution_count": 19,
     "metadata": {},
     "output_type": "execute_result"
    }
   ],
   "source": [
    "y_pred=logreg.predict(X_test)   # predictions\n",
    "\n",
    "y_pred[:10]"
   ]
  },
  {
   "cell_type": "markdown",
   "id": "e2f54e44",
   "metadata": {},
   "source": [
    "### Evaluation\n",
    "\n",
    "Firts, we take a look to the model **accuracy**."
   ]
  },
  {
   "cell_type": "code",
   "execution_count": 20,
   "id": "379ecf08",
   "metadata": {},
   "outputs": [
    {
     "data": {
      "text/plain": [
       "0.7336656482821461"
      ]
     },
     "execution_count": 20,
     "metadata": {},
     "output_type": "execute_result"
    }
   ],
   "source": [
    "logreg.score(X_train, y_train)    # accuracy in train dataset"
   ]
  },
  {
   "cell_type": "code",
   "execution_count": 21,
   "id": "2cfba95c",
   "metadata": {},
   "outputs": [
    {
     "data": {
      "text/plain": [
       "0.7307444926837112"
      ]
     },
     "execution_count": 21,
     "metadata": {},
     "output_type": "execute_result"
    }
   ],
   "source": [
    "logreg.score(X_test, y_test)      # accuracy in test dataset"
   ]
  },
  {
   "cell_type": "markdown",
   "id": "70128b2a",
   "metadata": {},
   "source": [
    "In practice, for multilabel classification model, which is our case, accuracy is mostly favored. F1-score is usually used for multilabel or binary label where the classes are highly unbalanced.\n",
    "\n",
    "+ Accuracy is used when the True Positives and True negatives are more important while F1-score is used when the False Negatives and False Positives are crucial.\n",
    "\n",
    "+ Accuracy can be used when the class distribution is similar while F1-score is a better metric when there are imbalanced classes as in the above case.\n",
    "\n",
    "+ In most real-life classification problems, imbalanced class distribution exists and thus F1-score is a better metric to evaluate our model on.\n",
    "\n",
    "\n",
    "**F1-Score**\n",
    "\n",
    "Pros :\n",
    "\n",
    "+ Takes into account how the data is distributed. Useful when you have data with imbalance classes.\n",
    "\n",
    "Cons :\n",
    "\n",
    "+ Less interpretable. Precision and recall is more interpretable than f1-score, since it measures the type-1 error and type-2 error. However, f1-score measures the trade-off between this two.\n",
    "When positive class is minority class, the score is quite sensitive when there is switching where the ground truth is positive.\n",
    "\n",
    "\n",
    "**Accuracy**\n",
    "\n",
    "Pros :\n",
    "\n",
    "+ Easy to understand.\n",
    "\n",
    "\n",
    "Cons :\n",
    "\n",
    "+ It does not take into account how the data is distributed. This error could be crucial and might lead to incorrect conclusion.\n",
    "\n",
    "\n",
    "Let's take a look to the F1-Score."
   ]
  },
  {
   "cell_type": "code",
   "execution_count": 22,
   "id": "2bbd8af8",
   "metadata": {},
   "outputs": [
    {
     "data": {
      "text/plain": [
       "0.627108547036387"
      ]
     },
     "execution_count": 22,
     "metadata": {},
     "output_type": "execute_result"
    }
   ],
   "source": [
    "f1(y_test, y_pred, average='macro')    # F1-score multilabel"
   ]
  },
  {
   "cell_type": "markdown",
   "id": "35184d70",
   "metadata": {},
   "source": [
    "Our F1-Score value is less than the accuracy. That means our model is confused about some label. Let's take a look to the **confusion matrix** to realize what is going on."
   ]
  },
  {
   "cell_type": "code",
   "execution_count": 23,
   "id": "12158e76",
   "metadata": {},
   "outputs": [
    {
     "data": {
      "image/png": "[encoded data removed]",
      "text/plain": [
       "<Figure size 720x432 with 2 Axes>"
      ]
     },
     "metadata": {},
     "output_type": "display_data"
    }
   ],
   "source": [
    "conf_matrix_rate=cm(y_test, y_pred)/sum(sum(cm(y_test, y_pred)))    # confusion matrix as a rate\n",
    "\n",
    "\n",
    "fig, ax=plt.subplots(figsize=(10,6))\n",
    "\n",
    "ax=sns.heatmap(conf_matrix_rate, \n",
    "               annot=True, \n",
    "               fmt='.4f',\n",
    "               ax=ax)\n",
    "\n",
    "plt.title('Confusion Matrix')\n",
    "plt.ylabel('Truth')\n",
    "plt.xlabel('Prediction')\n",
    "plt.show();"
   ]
  },
  {
   "cell_type": "code",
   "execution_count": 24,
   "id": "11c6798d",
   "metadata": {},
   "outputs": [
    {
     "data": {
      "image/png": "[encoded data removed]",
      "text/plain": [
       "<Figure size 720x432 with 1 Axes>"
      ]
     },
     "metadata": {},
     "output_type": "display_data"
    }
   ],
   "source": [
    "(y.value_counts()/len(y)).plot.bar(color=['b', 'r', 'g'],    \n",
    "                                           figsize=(10, 6),\n",
    "                                           title='Contract type',\n",
    "                                           rot=0,\n",
    "                                           fontsize=12);"
   ]
  },
  {
   "cell_type": "markdown",
   "id": "81935d63",
   "metadata": {},
   "source": [
    "As we can see, the model is almost blind to the label `1`, the one year contract type. 50% of our accuracy is because we are predicting label `0`, monthly contracts, the most part of our data. Again we have a bias in the model. Let's make some feature experiments to try avoid the bias."
   ]
  },
  {
   "cell_type": "markdown",
   "id": "0d13ed36",
   "metadata": {},
   "source": [
    "### RFE\n",
    "\n",
    "\n",
    "Maybe we are not selecting the good features for our model. Can we do something? \n",
    "\n",
    "RFE is a transformer estimator, which means it follows the familiar fit/transform pattern of Sklearn. It is a popular algorithm due to its easy configurable nature and robust performance. As the name suggests, it removes features one at a time based on the weights given by a model of our choice in each iteration. Will it work? Let's try."
   ]
  },
  {
   "cell_type": "code",
   "execution_count": 25,
   "id": "a28ebc77",
   "metadata": {},
   "outputs": [
    {
     "data": {
      "text/plain": [
       "RFE(estimator=LogisticRegression(max_iter=2000), n_features_to_select=15)"
      ]
     },
     "execution_count": 25,
     "metadata": {},
     "output_type": "execute_result"
    }
   ],
   "source": [
    "selector=RFE(logreg, n_features_to_select=15, step=1)   # rfe definition and fitting\n",
    "selector.fit(X, y)"
   ]
  },
  {
   "cell_type": "code",
   "execution_count": 26,
   "id": "a63f8900",
   "metadata": {},
   "outputs": [
    {
     "data": {
      "text/plain": [
       "array([21, 23, 38, 22, 26, 28, 29,  1,  1, 34, 51, 35, 27, 30, 46, 44,  1,\n",
       "       31, 41, 36, 20, 47, 16, 43, 18, 19, 42, 40, 49,  1,  1, 15, 13, 48,\n",
       "        8, 24, 12,  5,  9, 10,  4,  2,  3,  6, 32, 14, 25, 52, 17, 50, 45,\n",
       "       39, 33, 11,  7,  1,  1,  1,  1,  1,  1,  1,  1,  1, 37,  1])"
      ]
     },
     "execution_count": 26,
     "metadata": {},
     "output_type": "execute_result"
    }
   ],
   "source": [
    "selector.ranking_     # features ranking"
   ]
  },
  {
   "cell_type": "code",
   "execution_count": 27,
   "id": "b2f9fa94",
   "metadata": {},
   "outputs": [],
   "source": [
    "X_rfe=selector.transform(X)    # data transform"
   ]
  },
  {
   "cell_type": "markdown",
   "id": "ad3f5cbc",
   "metadata": {},
   "source": [
    "At this point, we have changed our data, dropping columns in a recursive way."
   ]
  },
  {
   "cell_type": "code",
   "execution_count": 28,
   "id": "b0fbb770",
   "metadata": {},
   "outputs": [
    {
     "data": {
      "text/plain": [
       "(49752, 15)"
      ]
     },
     "execution_count": 28,
     "metadata": {},
     "output_type": "execute_result"
    }
   ],
   "source": [
    "X_rfe.shape"
   ]
  },
  {
   "cell_type": "code",
   "execution_count": 29,
   "id": "91abb398",
   "metadata": {},
   "outputs": [],
   "source": [
    "X_train, X_test, y_train, y_test=tts(X_rfe, y, random_state=42)"
   ]
  },
  {
   "cell_type": "markdown",
   "id": "2ea4a96f",
   "metadata": {},
   "source": [
    "Training the model with the neew dataset."
   ]
  },
  {
   "cell_type": "code",
   "execution_count": 30,
   "id": "3f507cf7",
   "metadata": {},
   "outputs": [
    {
     "name": "stdout",
     "output_type": "stream",
     "text": [
      "train Acc: 0.7313876829072198 -- test Acc: 0.7301817012381412\n"
     ]
    }
   ],
   "source": [
    "logreg_ref=LogisticRegression(max_iter=2000)\n",
    "\n",
    "logreg_ref.fit(X_train, y_train)\n",
    "\n",
    "train_score=logreg_ref.score(X_train, y_train) \n",
    "test_score=logreg_ref.score(X_test, y_test)\n",
    "\n",
    "print ('train Acc:',train_score, '-- test Acc:', test_score)"
   ]
  },
  {
   "cell_type": "code",
   "execution_count": 31,
   "id": "ead8f7bf",
   "metadata": {},
   "outputs": [],
   "source": [
    "y_pred_ref=logreg_ref.predict(X_test)"
   ]
  },
  {
   "cell_type": "code",
   "execution_count": 32,
   "id": "c4125b3f",
   "metadata": {},
   "outputs": [
    {
     "data": {
      "text/plain": [
       "0.6258866750983468"
      ]
     },
     "execution_count": 32,
     "metadata": {},
     "output_type": "execute_result"
    }
   ],
   "source": [
    "f1(y_test, y_pred_ref, average='macro')"
   ]
  },
  {
   "cell_type": "code",
   "execution_count": 33,
   "id": "40cd10e2",
   "metadata": {},
   "outputs": [
    {
     "data": {
      "image/png": "[encoded data removed]",
      "text/plain": [
       "<Figure size 720x432 with 2 Axes>"
      ]
     },
     "metadata": {},
     "output_type": "display_data"
    }
   ],
   "source": [
    "conf_matrix_rate=cm(y_test, y_pred_ref)/sum(sum(cm(y_test, y_pred_ref)))    \n",
    "\n",
    "fig, ax=plt.subplots(figsize=(10,6))\n",
    "\n",
    "ax=sns.heatmap(conf_matrix_rate, \n",
    "               annot=True, \n",
    "               fmt='.4f',\n",
    "               ax=ax)\n",
    "\n",
    "plt.title('Confusion Matrix')\n",
    "plt.ylabel('Truth')\n",
    "plt.xlabel('Prediction')\n",
    "plt.show();"
   ]
  },
  {
   "cell_type": "markdown",
   "id": "3948f5a9",
   "metadata": {},
   "source": [
    "We have the same problem, we have a bias. But the accuracy and F1-Score have not drop so much. This means we can use RFE for computer optimization if we need to."
   ]
  },
  {
   "cell_type": "markdown",
   "id": "1ae0d27d",
   "metadata": {},
   "source": [
    "### PCA\n",
    "\n",
    "We can try in the same way with PCA. Remember PCA is not about dropping columns, but a data transformation. "
   ]
  },
  {
   "cell_type": "code",
   "execution_count": 34,
   "id": "bcf3ec70",
   "metadata": {},
   "outputs": [],
   "source": [
    "from sklearn.decomposition import PCA"
   ]
  },
  {
   "cell_type": "markdown",
   "id": "3c56ad00",
   "metadata": {},
   "source": [
    "We need to know the explained variance ratio in order to know our target dimensions."
   ]
  },
  {
   "cell_type": "code",
   "execution_count": 35,
   "id": "9cde778c",
   "metadata": {},
   "outputs": [
    {
     "data": {
      "image/png": "[encoded data removed]",
      "text/plain": [
       "<Figure size 720x360 with 1 Axes>"
      ]
     },
     "metadata": {},
     "output_type": "display_data"
    }
   ],
   "source": [
    "pca=PCA()\n",
    "\n",
    "pca.fit(data)\n",
    "\n",
    "plt.figure(figsize=(10, 5))\n",
    "\n",
    "plt.plot(np.cumsum(pca.explained_variance_ratio_))\n",
    "\n",
    "plt.xlabel('# components')\n",
    "plt.ylabel('% variance')\n",
    "plt.ylim([0, 1.02]);"
   ]
  },
  {
   "cell_type": "markdown",
   "id": "54466295",
   "metadata": {},
   "source": [
    "Seeing this plot, could be reasonable the range [40-50] for number of components. Let's try with 45."
   ]
  },
  {
   "cell_type": "code",
   "execution_count": 36,
   "id": "6ce5c876",
   "metadata": {},
   "outputs": [],
   "source": [
    "pca=PCA(n_components=45)\n",
    "\n",
    "X_pca=pca.fit_transform(X)"
   ]
  },
  {
   "cell_type": "code",
   "execution_count": 37,
   "id": "9597921d",
   "metadata": {},
   "outputs": [],
   "source": [
    "X_train, X_test, y_train, y_test=tts(X_pca, y, random_state=42)"
   ]
  },
  {
   "cell_type": "code",
   "execution_count": 38,
   "id": "c4747496",
   "metadata": {},
   "outputs": [
    {
     "name": "stdout",
     "output_type": "stream",
     "text": [
      "train Acc: 0.7290829179396473 -- test Acc: 0.7274481427882297\n"
     ]
    }
   ],
   "source": [
    "logreg_pca=LogisticRegression(max_iter=2000)\n",
    "\n",
    "logreg_pca.fit(X_train, y_train)\n",
    "\n",
    "train_score=logreg_pca.score(X_train, y_train) \n",
    "test_score=logreg_pca.score(X_test, y_test)\n",
    "\n",
    "print ('train Acc:',train_score, '-- test Acc:', test_score)"
   ]
  },
  {
   "cell_type": "code",
   "execution_count": 39,
   "id": "a5f3eec8",
   "metadata": {},
   "outputs": [],
   "source": [
    "y_pred_pca=logreg_pca.predict(X_test)"
   ]
  },
  {
   "cell_type": "code",
   "execution_count": 40,
   "id": "4e7703fc",
   "metadata": {},
   "outputs": [
    {
     "data": {
      "text/plain": [
       "0.6258866750983468"
      ]
     },
     "execution_count": 40,
     "metadata": {},
     "output_type": "execute_result"
    }
   ],
   "source": [
    "f1(y_test, y_pred_ref, average='macro')"
   ]
  },
  {
   "cell_type": "code",
   "execution_count": 41,
   "id": "57924912",
   "metadata": {},
   "outputs": [
    {
     "data": {
      "image/png": "[encoded data removed]",
      "text/plain": [
       "<Figure size 720x432 with 2 Axes>"
      ]
     },
     "metadata": {},
     "output_type": "display_data"
    }
   ],
   "source": [
    "conf_matrix_rate=cm(y_test, y_pred_pca)/sum(sum(cm(y_test, y_pred_pca)))    \n",
    "\n",
    "fig, ax=plt.subplots(figsize=(10,6))\n",
    "\n",
    "ax=sns.heatmap(conf_matrix_rate, \n",
    "               annot=True, \n",
    "               fmt='.4f',\n",
    "               ax=ax)\n",
    "\n",
    "plt.title('Confusion Matrix')\n",
    "plt.ylabel('Truth')\n",
    "plt.xlabel('Prediction')\n",
    "plt.show();"
   ]
  },
  {
   "cell_type": "markdown",
   "id": "7435e531",
   "metadata": {},
   "source": [
    "We still have the bias problem. Can we fix it? Can we balance the labels?"
   ]
  },
  {
   "cell_type": "markdown",
   "id": "ac1ccaac",
   "metadata": {},
   "source": [
    "### Smote (oversampling)\n",
    "\n",
    "Oversampling involves supplementing the training data with multiple copies of some of the minority classes. There are a number of methods available to oversample a dataset used in a typical classification problem. The most common technique is known as **SMOTE: Synthetic Minority Over-sampling Technique**.\n",
    "\n",
    "To illustrate how this technique works consider some training data which has s samples, and f features in the feature space of the data. Note that these features, for simplicity, are continuous. As an example, consider a dataset of birds for classification. The feature space for the minority class for which we want to oversample could be beak length, wingspan, and weight, all continuous. To then oversample, take a sample from the dataset, and consider its k nearest neighbors, in feature space. To create a synthetic data point, take the vector between one of those k neighbors, and the current data point. Multiply this vector by a random number x which lies between 0, and 1. Add this to the current data point to create the new, synthetic data point.\n",
    "\n",
    "\n",
    "Let's try SMOTE algorithm."
   ]
  },
  {
   "cell_type": "code",
   "execution_count": 42,
   "id": "e6939357",
   "metadata": {},
   "outputs": [],
   "source": [
    "from imblearn.over_sampling import SMOTE"
   ]
  },
  {
   "cell_type": "code",
   "execution_count": 43,
   "id": "da4823c9",
   "metadata": {},
   "outputs": [],
   "source": [
    "oversample=SMOTE(sampling_strategy='not majority')\n",
    "\n",
    "X_smote, y_smote=oversample.fit_resample(X, y)"
   ]
  },
  {
   "cell_type": "code",
   "execution_count": 44,
   "id": "58a5c0fa",
   "metadata": {},
   "outputs": [
    {
     "data": {
      "image/png": "[encoded data removed]",
      "text/plain": [
       "<Figure size 720x432 with 1 Axes>"
      ]
     },
     "metadata": {},
     "output_type": "display_data"
    }
   ],
   "source": [
    "(y_smote.value_counts()/len(y_smote)).plot.bar(color=['b', 'r', 'g'],   \n",
    "                                           figsize=(10, 6),\n",
    "                                           title='Contract',\n",
    "                                           rot=0,\n",
    "                                           fontsize=12);"
   ]
  },
  {
   "cell_type": "markdown",
   "id": "660c3a36",
   "metadata": {},
   "source": [
    "Now we have balanced the classes. We'll train the logistic regression model."
   ]
  },
  {
   "cell_type": "code",
   "execution_count": 45,
   "id": "1c32aafa",
   "metadata": {},
   "outputs": [],
   "source": [
    "X_train, X_test, y_train, y_test=tts(X_smote, y_smote, random_state=42)"
   ]
  },
  {
   "cell_type": "markdown",
   "id": "bcd7ce79",
   "metadata": {},
   "source": [
    "**To the teacher: this last line is wrong, SMOTE just for training. Fixed in lab code.**"
   ]
  },
  {
   "cell_type": "code",
   "execution_count": 46,
   "id": "419db3dd",
   "metadata": {},
   "outputs": [
    {
     "name": "stdout",
     "output_type": "stream",
     "text": [
      "train Acc: 0.7077943131342606 -- test Acc: 0.7069351230425056\n"
     ]
    }
   ],
   "source": [
    "logreg_smote=LogisticRegression(max_iter=2000)\n",
    "\n",
    "logreg_smote.fit(X_train, y_train)\n",
    "\n",
    "train_score=logreg_smote.score(X_train, y_train) \n",
    "test_score=logreg_smote.score(X_test, y_test)\n",
    "\n",
    "print ('train Acc:',train_score, '-- test Acc:', test_score)"
   ]
  },
  {
   "cell_type": "code",
   "execution_count": 47,
   "id": "e51050ec",
   "metadata": {},
   "outputs": [],
   "source": [
    "y_pred_smote=logreg_smote.predict(X_test)"
   ]
  },
  {
   "cell_type": "code",
   "execution_count": 48,
   "id": "e3083c8d",
   "metadata": {},
   "outputs": [
    {
     "data": {
      "text/plain": [
       "0.7064248146495288"
      ]
     },
     "execution_count": 48,
     "metadata": {},
     "output_type": "execute_result"
    }
   ],
   "source": [
    "f1(y_test, y_pred_smote, average='macro')"
   ]
  },
  {
   "cell_type": "code",
   "execution_count": 49,
   "id": "2e56b2b4",
   "metadata": {},
   "outputs": [
    {
     "data": {
      "image/png": "[encoded data removed]",
      "text/plain": [
       "<Figure size 720x432 with 2 Axes>"
      ]
     },
     "metadata": {},
     "output_type": "display_data"
    }
   ],
   "source": [
    "conf_matrix_rate=cm(y_test, y_pred_smote)/sum(sum(cm(y_test, y_pred_smote)))    \n",
    "\n",
    "fig, ax=plt.subplots(figsize=(10,6))\n",
    "\n",
    "ax=sns.heatmap(conf_matrix_rate, \n",
    "               annot=True, \n",
    "               fmt='.4f',\n",
    "               ax=ax)\n",
    "\n",
    "plt.title('Confusion Matrix')\n",
    "plt.ylabel('Truth')\n",
    "plt.xlabel('Prediction')\n",
    "plt.show();"
   ]
  },
  {
   "cell_type": "markdown",
   "id": "b18a9740",
   "metadata": {},
   "source": [
    "We see the accuracy dropped a bit, but our F1-Score is better and the confusion matrix shows a fix in the bias problem. Therefore, this model has less accuracy but it is a more robust classifier, now it is not blind to the `1` label."
   ]
  },
  {
   "cell_type": "markdown",
   "id": "4ae6b95b",
   "metadata": {},
   "source": [
    "### Other models\n",
    "\n",
    "We can try another models, like random forests or boosting models. We'll continue with the SMOTE data to check another models, accuracy, F1-Score and confusion matrix."
   ]
  },
  {
   "cell_type": "code",
   "execution_count": 50,
   "id": "ba017fb6",
   "metadata": {},
   "outputs": [],
   "source": [
    "X_train, X_test, y_train, y_test=tts(X_smote, y_smote, random_state=42)"
   ]
  },
  {
   "cell_type": "code",
   "execution_count": 51,
   "id": "a6ae485f",
   "metadata": {},
   "outputs": [
    {
     "name": "stdout",
     "output_type": "stream",
     "text": [
      "train Acc: 1.0 -- test Acc: 0.8529325941056317\n"
     ]
    }
   ],
   "source": [
    "from sklearn.ensemble import RandomForestClassifier as RFC\n",
    "\n",
    "\n",
    "rfc=RFC()\n",
    "rfc.fit(X_train, y_train)\n",
    "\n",
    "train_score=rfc.score(X_train, y_train) \n",
    "test_score=rfc.score(X_test, y_test)\n",
    "\n",
    "print ('train Acc:',train_score, '-- test Acc:', test_score)"
   ]
  },
  {
   "cell_type": "code",
   "execution_count": 52,
   "id": "d9a32292",
   "metadata": {},
   "outputs": [],
   "source": [
    "y_pred=rfc.predict(X_test)"
   ]
  },
  {
   "cell_type": "code",
   "execution_count": 53,
   "id": "30687889",
   "metadata": {},
   "outputs": [
    {
     "data": {
      "text/plain": [
       "0.8535991483003335"
      ]
     },
     "execution_count": 53,
     "metadata": {},
     "output_type": "execute_result"
    }
   ],
   "source": [
    "f1(y_test, y_pred, average='macro')"
   ]
  },
  {
   "cell_type": "code",
   "execution_count": 54,
   "id": "7adfa0e7",
   "metadata": {},
   "outputs": [
    {
     "data": {
      "image/png": "[encoded data removed]",
      "text/plain": [
       "<Figure size 720x432 with 2 Axes>"
      ]
     },
     "metadata": {},
     "output_type": "display_data"
    }
   ],
   "source": [
    "conf_matrix_rate=cm(y_test, y_pred)/sum(sum(cm(y_test, y_pred)))    \n",
    "\n",
    "fig, ax=plt.subplots(figsize=(10,6))\n",
    "\n",
    "ax=sns.heatmap(conf_matrix_rate, \n",
    "               annot=True, \n",
    "               fmt='.4f',\n",
    "               ax=ax)\n",
    "\n",
    "plt.title('Confusion Matrix')\n",
    "plt.ylabel('Truth')\n",
    "plt.xlabel('Prediction')\n",
    "plt.show();"
   ]
  },
  {
   "cell_type": "markdown",
   "id": "e1f7084a",
   "metadata": {},
   "source": [
    "**This model is doing very good job!!**\n",
    "\n",
    "Let's try a boosting classifier."
   ]
  },
  {
   "cell_type": "code",
   "execution_count": 55,
   "id": "c950f7b1",
   "metadata": {},
   "outputs": [
    {
     "name": "stdout",
     "output_type": "stream",
     "text": [
      "train Acc: 0.9012579839833998 -- test Acc: 0.8152903414064779\n"
     ]
    }
   ],
   "source": [
    "from xgboost import XGBClassifier as XGBC\n",
    "\n",
    "xgbc=XGBC(eval_metric='mlogloss',\n",
    "          use_label_encoder=False)\n",
    "\n",
    "xgbc.fit(X_train, y_train)\n",
    "\n",
    "train_score=xgbc.score(X_train, y_train) \n",
    "test_score=xgbc.score(X_test, y_test)\n",
    "\n",
    "print ('train Acc:',train_score, '-- test Acc:', test_score)"
   ]
  },
  {
   "cell_type": "code",
   "execution_count": 56,
   "id": "6858a389",
   "metadata": {},
   "outputs": [],
   "source": [
    "y_pred=xgbc.predict(X_test)"
   ]
  },
  {
   "cell_type": "code",
   "execution_count": 57,
   "id": "94fbf541",
   "metadata": {},
   "outputs": [
    {
     "data": {
      "text/plain": [
       "0.8152764416127707"
      ]
     },
     "execution_count": 57,
     "metadata": {},
     "output_type": "execute_result"
    }
   ],
   "source": [
    "f1(y_test, y_pred, average='macro')"
   ]
  },
  {
   "cell_type": "code",
   "execution_count": 58,
   "id": "e7ac69d2",
   "metadata": {},
   "outputs": [
    {
     "data": {
      "image/png": "[encoded data removed]",
      "text/plain": [
       "<Figure size 720x432 with 2 Axes>"
      ]
     },
     "metadata": {},
     "output_type": "display_data"
    }
   ],
   "source": [
    "conf_matrix_rate=cm(y_test, y_pred)/sum(sum(cm(y_test, y_pred)))    \n",
    "\n",
    "fig, ax=plt.subplots(figsize=(10,6))\n",
    "\n",
    "ax=sns.heatmap(conf_matrix_rate, \n",
    "               annot=True, \n",
    "               fmt='.4f',\n",
    "               ax=ax)\n",
    "\n",
    "plt.title('Confusion Matrix')\n",
    "plt.ylabel('Truth')\n",
    "plt.xlabel('Prediction')\n",
    "plt.show();"
   ]
  },
  {
   "cell_type": "markdown",
   "id": "6fb94ceb",
   "metadata": {},
   "source": [
    "**What model do we choose?**"
   ]
  }
 ],
 "metadata": {
  "kernelspec": {
   "display_name": "clase",
   "language": "python",
   "name": "clase"
  },
  "language_info": {
   "codemirror_mode": {
    "name": "ipython",
    "version": 3
   },
   "file_extension": ".py",
   "mimetype": "text/x-python",
   "name": "python",
   "nbconvert_exporter": "python",
   "pygments_lexer": "ipython3",
   "version": "3.8.8"
  }
 },
 "nbformat": 4,
 "nbformat_minor": 5
}
