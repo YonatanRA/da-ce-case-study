{
 "cells": [
  {
   "cell_type": "markdown",
   "id": "b918d378",
   "metadata": {},
   "source": [
    "# Lab Multilabel Logistic Regression\n",
    "\n",
    "![credit_rating](../../../images/credit_rating.jpg)\n",
    "![credit_rating](https://github.com/YonatanRA/da-ce-case-study/blob/master/images/credit_rating.jpg)\n",
    "\n",
    "\n",
    "This is the last project at the telecom company. The management thinks that there is a delinquency problem with the customers and wants a credit rating predictive model. A credit rating is a measurement of a person or business entity's ability to repay a financial obligation based on income and past repayment histories. Usually expressed as a credit score, banks and lenders use a credit rating as one of the factors to determine whether to lend money.\n",
    "\n",
    "Our task is build a multilabel classifier in order to predict the credit rating of our customers."
   ]
  },
  {
   "cell_type": "markdown",
   "id": "4d1facd2",
   "metadata": {},
   "source": [
    "## 1 - Imports\n",
    "\n",
    "Import every single library you need here."
   ]
  },
  {
   "cell_type": "code",
   "execution_count": 1,
   "id": "a3059703",
   "metadata": {},
   "outputs": [],
   "source": [
    "# your libraries here\n",
    "\n",
    "import pandas as pd\n",
    "pd.set_option('display.max_columns', None)\n",
    "\n",
    "import numpy as np\n",
    "import pylab as plt \n",
    "import seaborn as sns\n",
    "\n",
    "from sqlalchemy import create_engine\n",
    "\n",
    "\n",
    "from sklearn.linear_model import LogisticRegression\n",
    "from sklearn.ensemble import RandomForestClassifier as RFC\n",
    "\n",
    "from sklearn.preprocessing import StandardScaler, LabelEncoder\n",
    "from sklearn.model_selection import train_test_split as tts\n",
    "\n",
    "from sklearn.metrics import f1_score as f1\n",
    "from sklearn.metrics import confusion_matrix as cm      \n",
    "\n",
    "from imblearn.over_sampling import SMOTE\n"
   ]
  },
  {
   "cell_type": "markdown",
   "id": "bb3d4488",
   "metadata": {},
   "source": [
    "## 2 - Load Data\n",
    "\n",
    "First, we need to load the customers data."
   ]
  },
  {
   "cell_type": "code",
   "execution_count": 2,
   "id": "2f214247",
   "metadata": {},
   "outputs": [],
   "source": [
    "# your code here\n",
    "\n",
    "DB_LANG='mysql'\n",
    "\n",
    "DRIVER='pymysql'\n",
    "\n",
    "USER='root'\n",
    "\n",
    "PASSWORD='password'\n",
    "\n",
    "HOST='localhost'\n",
    "\n",
    "PORT='3306'\n",
    "\n",
    "SCHEMA='telcom'"
   ]
  },
  {
   "cell_type": "code",
   "execution_count": 3,
   "id": "96cc2683",
   "metadata": {},
   "outputs": [],
   "source": [
    "connection_string=f'{DB_LANG}+{DRIVER}://{USER}:{PASSWORD}@{HOST}:{PORT}/{SCHEMA}'\n",
    "        \n",
    "engine=create_engine(connection_string)"
   ]
  },
  {
   "cell_type": "code",
   "execution_count": 4,
   "id": "5e1dab38",
   "metadata": {},
   "outputs": [
    {
     "data": {
      "text/html": [
       "<div>\n",
       "<style scoped>\n",
       "    .dataframe tbody tr th:only-of-type {\n",
       "        vertical-align: middle;\n",
       "    }\n",
       "\n",
       "    .dataframe tbody tr th {\n",
       "        vertical-align: top;\n",
       "    }\n",
       "\n",
       "    .dataframe thead th {\n",
       "        text-align: right;\n",
       "    }\n",
       "</style>\n",
       "<table border=\"1\" class=\"dataframe\">\n",
       "  <thead>\n",
       "    <tr style=\"text-align: right;\">\n",
       "      <th></th>\n",
       "      <th>id</th>\n",
       "      <th>CustomerID</th>\n",
       "      <th>Churn</th>\n",
       "      <th>MonthlyRevenue</th>\n",
       "      <th>MonthlyMinutes</th>\n",
       "      <th>TotalRecurringCharge</th>\n",
       "      <th>DirectorAssistedCalls</th>\n",
       "      <th>OverageMinutes</th>\n",
       "      <th>RoamingCalls</th>\n",
       "      <th>PercChangeMinutes</th>\n",
       "      <th>PercChangeRevenues</th>\n",
       "      <th>DroppedCalls</th>\n",
       "      <th>BlockedCalls</th>\n",
       "      <th>UnansweredCalls</th>\n",
       "      <th>CustomerCareCalls</th>\n",
       "      <th>ThreewayCalls</th>\n",
       "      <th>ReceivedCalls</th>\n",
       "      <th>OutboundCalls</th>\n",
       "      <th>InboundCalls</th>\n",
       "      <th>PeakCallsInOut</th>\n",
       "      <th>OffPeakCallsInOut</th>\n",
       "      <th>DroppedBlockedCalls</th>\n",
       "      <th>CallForwardingCalls</th>\n",
       "      <th>CallWaitingCalls</th>\n",
       "      <th>MonthsInService</th>\n",
       "      <th>UniqueSubs</th>\n",
       "      <th>ActiveSubs</th>\n",
       "      <th>ServiceArea</th>\n",
       "      <th>Handsets</th>\n",
       "      <th>HandsetModels</th>\n",
       "      <th>CurrentEquipmentDays</th>\n",
       "      <th>AgeHH1</th>\n",
       "      <th>AgeHH2</th>\n",
       "      <th>ChildrenInHH</th>\n",
       "      <th>HandsetRefurbished</th>\n",
       "      <th>HandsetWebCapable</th>\n",
       "      <th>TruckOwner</th>\n",
       "      <th>RVOwner</th>\n",
       "      <th>Homeownership</th>\n",
       "      <th>BuysViaMailOrder</th>\n",
       "      <th>RespondsToMailOffers</th>\n",
       "      <th>OptOutMailings</th>\n",
       "      <th>NonUSTravel</th>\n",
       "      <th>OwnsComputer</th>\n",
       "      <th>HasCreditCard</th>\n",
       "      <th>RetentionCalls</th>\n",
       "      <th>RetentionOffersAccepted</th>\n",
       "      <th>NewCellphoneUser</th>\n",
       "      <th>NotNewCellphoneUser</th>\n",
       "      <th>ReferralsMadeBySubscriber</th>\n",
       "      <th>IncomeGroup</th>\n",
       "      <th>OwnsMotorcycle</th>\n",
       "      <th>AdjustmentsToCreditRating</th>\n",
       "      <th>HandsetPrice</th>\n",
       "      <th>MadeCallToRetentionTeam</th>\n",
       "      <th>CreditRating</th>\n",
       "      <th>PrizmCode</th>\n",
       "      <th>Occupation</th>\n",
       "      <th>MaritalStatus</th>\n",
       "      <th>Gender</th>\n",
       "      <th>SeniorCitizen</th>\n",
       "      <th>Partner</th>\n",
       "      <th>Dependents</th>\n",
       "      <th>Tenure</th>\n",
       "      <th>InternetService</th>\n",
       "      <th>OnlineSecurity</th>\n",
       "      <th>OnlineBackup</th>\n",
       "      <th>DeviceProtection</th>\n",
       "      <th>TechSupport</th>\n",
       "      <th>StreamingTV</th>\n",
       "      <th>StreamingMovies</th>\n",
       "      <th>Contract</th>\n",
       "      <th>PaperlessBilling</th>\n",
       "      <th>PaymentMethod</th>\n",
       "      <th>TenureLevel</th>\n",
       "    </tr>\n",
       "  </thead>\n",
       "  <tbody>\n",
       "    <tr>\n",
       "      <th>0</th>\n",
       "      <td>0</td>\n",
       "      <td>3000002</td>\n",
       "      <td>Yes</td>\n",
       "      <td>24.0</td>\n",
       "      <td>219.0</td>\n",
       "      <td>22.0</td>\n",
       "      <td>0.25</td>\n",
       "      <td>0.0</td>\n",
       "      <td>0.0</td>\n",
       "      <td>-157.0</td>\n",
       "      <td>-19.0</td>\n",
       "      <td>0.7</td>\n",
       "      <td>0.7</td>\n",
       "      <td>6.3</td>\n",
       "      <td>0.0</td>\n",
       "      <td>0.0</td>\n",
       "      <td>97.2</td>\n",
       "      <td>0.0</td>\n",
       "      <td>0.0</td>\n",
       "      <td>58.0</td>\n",
       "      <td>24.0</td>\n",
       "      <td>1.3</td>\n",
       "      <td>0.0</td>\n",
       "      <td>0.3</td>\n",
       "      <td>61</td>\n",
       "      <td>2</td>\n",
       "      <td>1</td>\n",
       "      <td>SEAPOR503</td>\n",
       "      <td>2.0</td>\n",
       "      <td>2.0</td>\n",
       "      <td>361.0</td>\n",
       "      <td>62.0</td>\n",
       "      <td>0.0</td>\n",
       "      <td>No</td>\n",
       "      <td>No</td>\n",
       "      <td>Yes</td>\n",
       "      <td>No</td>\n",
       "      <td>No</td>\n",
       "      <td>Known</td>\n",
       "      <td>Yes</td>\n",
       "      <td>Yes</td>\n",
       "      <td>No</td>\n",
       "      <td>No</td>\n",
       "      <td>Yes</td>\n",
       "      <td>Yes</td>\n",
       "      <td>1</td>\n",
       "      <td>0</td>\n",
       "      <td>No</td>\n",
       "      <td>No</td>\n",
       "      <td>0</td>\n",
       "      <td>4</td>\n",
       "      <td>No</td>\n",
       "      <td>0</td>\n",
       "      <td>30</td>\n",
       "      <td>Yes</td>\n",
       "      <td>1-Highest</td>\n",
       "      <td>Suburban</td>\n",
       "      <td>Professional</td>\n",
       "      <td>No</td>\n",
       "      <td>Female</td>\n",
       "      <td>0</td>\n",
       "      <td>No</td>\n",
       "      <td>No</td>\n",
       "      <td>65</td>\n",
       "      <td>DSL</td>\n",
       "      <td>Yes</td>\n",
       "      <td>Yes</td>\n",
       "      <td>Yes</td>\n",
       "      <td>Yes</td>\n",
       "      <td>Yes</td>\n",
       "      <td>Yes</td>\n",
       "      <td>Two year</td>\n",
       "      <td>Yes</td>\n",
       "      <td>Bank transfer (automatic)</td>\n",
       "      <td>Very Loyal</td>\n",
       "    </tr>\n",
       "    <tr>\n",
       "      <th>1</th>\n",
       "      <td>1</td>\n",
       "      <td>3000010</td>\n",
       "      <td>Yes</td>\n",
       "      <td>16.99</td>\n",
       "      <td>10.0</td>\n",
       "      <td>17.0</td>\n",
       "      <td>0.0</td>\n",
       "      <td>0.0</td>\n",
       "      <td>0.0</td>\n",
       "      <td>-4.0</td>\n",
       "      <td>0.0</td>\n",
       "      <td>0.3</td>\n",
       "      <td>0.0</td>\n",
       "      <td>2.7</td>\n",
       "      <td>0.0</td>\n",
       "      <td>0.0</td>\n",
       "      <td>0.0</td>\n",
       "      <td>0.0</td>\n",
       "      <td>0.0</td>\n",
       "      <td>5.0</td>\n",
       "      <td>1.0</td>\n",
       "      <td>0.3</td>\n",
       "      <td>0.0</td>\n",
       "      <td>0.0</td>\n",
       "      <td>58</td>\n",
       "      <td>1</td>\n",
       "      <td>1</td>\n",
       "      <td>PITHOM412</td>\n",
       "      <td>2.0</td>\n",
       "      <td>1.0</td>\n",
       "      <td>1504.0</td>\n",
       "      <td>40.0</td>\n",
       "      <td>42.0</td>\n",
       "      <td>Yes</td>\n",
       "      <td>No</td>\n",
       "      <td>No</td>\n",
       "      <td>No</td>\n",
       "      <td>No</td>\n",
       "      <td>Known</td>\n",
       "      <td>Yes</td>\n",
       "      <td>Yes</td>\n",
       "      <td>No</td>\n",
       "      <td>No</td>\n",
       "      <td>Yes</td>\n",
       "      <td>Yes</td>\n",
       "      <td>0</td>\n",
       "      <td>0</td>\n",
       "      <td>Yes</td>\n",
       "      <td>No</td>\n",
       "      <td>0</td>\n",
       "      <td>5</td>\n",
       "      <td>No</td>\n",
       "      <td>0</td>\n",
       "      <td>30</td>\n",
       "      <td>No</td>\n",
       "      <td>4-Medium</td>\n",
       "      <td>Suburban</td>\n",
       "      <td>Professional</td>\n",
       "      <td>Yes</td>\n",
       "      <td>Male</td>\n",
       "      <td>0</td>\n",
       "      <td>No</td>\n",
       "      <td>Yes</td>\n",
       "      <td>53</td>\n",
       "      <td>DSL</td>\n",
       "      <td>Yes</td>\n",
       "      <td>Yes</td>\n",
       "      <td>No</td>\n",
       "      <td>Yes</td>\n",
       "      <td>No</td>\n",
       "      <td>No</td>\n",
       "      <td>One year</td>\n",
       "      <td>No</td>\n",
       "      <td>Credit card (automatic)</td>\n",
       "      <td>Loyal</td>\n",
       "    </tr>\n",
       "    <tr>\n",
       "      <th>2</th>\n",
       "      <td>2</td>\n",
       "      <td>3000014</td>\n",
       "      <td>No</td>\n",
       "      <td>38.0</td>\n",
       "      <td>8.0</td>\n",
       "      <td>38.0</td>\n",
       "      <td>0.0</td>\n",
       "      <td>0.0</td>\n",
       "      <td>0.0</td>\n",
       "      <td>-2.0</td>\n",
       "      <td>0.0</td>\n",
       "      <td>0.0</td>\n",
       "      <td>0.0</td>\n",
       "      <td>0.0</td>\n",
       "      <td>0.0</td>\n",
       "      <td>0.0</td>\n",
       "      <td>0.4</td>\n",
       "      <td>0.3</td>\n",
       "      <td>0.0</td>\n",
       "      <td>1.3</td>\n",
       "      <td>3.7</td>\n",
       "      <td>0.0</td>\n",
       "      <td>0.0</td>\n",
       "      <td>0.0</td>\n",
       "      <td>60</td>\n",
       "      <td>1</td>\n",
       "      <td>1</td>\n",
       "      <td>MILMIL414</td>\n",
       "      <td>1.0</td>\n",
       "      <td>1.0</td>\n",
       "      <td>1812.0</td>\n",
       "      <td>26.0</td>\n",
       "      <td>26.0</td>\n",
       "      <td>Yes</td>\n",
       "      <td>No</td>\n",
       "      <td>No</td>\n",
       "      <td>No</td>\n",
       "      <td>No</td>\n",
       "      <td>Unknown</td>\n",
       "      <td>No</td>\n",
       "      <td>No</td>\n",
       "      <td>No</td>\n",
       "      <td>No</td>\n",
       "      <td>No</td>\n",
       "      <td>Yes</td>\n",
       "      <td>0</td>\n",
       "      <td>0</td>\n",
       "      <td>Yes</td>\n",
       "      <td>No</td>\n",
       "      <td>0</td>\n",
       "      <td>6</td>\n",
       "      <td>No</td>\n",
       "      <td>0</td>\n",
       "      <td>Unknown</td>\n",
       "      <td>No</td>\n",
       "      <td>3-Good</td>\n",
       "      <td>Town</td>\n",
       "      <td>Crafts</td>\n",
       "      <td>Yes</td>\n",
       "      <td>Female</td>\n",
       "      <td>0</td>\n",
       "      <td>No</td>\n",
       "      <td>No</td>\n",
       "      <td>1</td>\n",
       "      <td>DSL</td>\n",
       "      <td>No</td>\n",
       "      <td>No</td>\n",
       "      <td>No</td>\n",
       "      <td>No</td>\n",
       "      <td>No</td>\n",
       "      <td>Yes</td>\n",
       "      <td>Month-to-month</td>\n",
       "      <td>Yes</td>\n",
       "      <td>Electronic check</td>\n",
       "      <td>New</td>\n",
       "    </tr>\n",
       "    <tr>\n",
       "      <th>3</th>\n",
       "      <td>3</td>\n",
       "      <td>3000022</td>\n",
       "      <td>No</td>\n",
       "      <td>82.28</td>\n",
       "      <td>1312.0</td>\n",
       "      <td>75.0</td>\n",
       "      <td>1.24</td>\n",
       "      <td>0.0</td>\n",
       "      <td>0.0</td>\n",
       "      <td>157.0</td>\n",
       "      <td>8.1</td>\n",
       "      <td>52.0</td>\n",
       "      <td>7.7</td>\n",
       "      <td>76.0</td>\n",
       "      <td>4.3</td>\n",
       "      <td>1.3</td>\n",
       "      <td>200.3</td>\n",
       "      <td>370.3</td>\n",
       "      <td>147.0</td>\n",
       "      <td>555.7</td>\n",
       "      <td>303.7</td>\n",
       "      <td>59.7</td>\n",
       "      <td>0.0</td>\n",
       "      <td>22.7</td>\n",
       "      <td>59</td>\n",
       "      <td>2</td>\n",
       "      <td>2</td>\n",
       "      <td>PITHOM412</td>\n",
       "      <td>9.0</td>\n",
       "      <td>4.0</td>\n",
       "      <td>458.0</td>\n",
       "      <td>30.0</td>\n",
       "      <td>0.0</td>\n",
       "      <td>No</td>\n",
       "      <td>No</td>\n",
       "      <td>Yes</td>\n",
       "      <td>No</td>\n",
       "      <td>No</td>\n",
       "      <td>Known</td>\n",
       "      <td>Yes</td>\n",
       "      <td>Yes</td>\n",
       "      <td>No</td>\n",
       "      <td>No</td>\n",
       "      <td>No</td>\n",
       "      <td>Yes</td>\n",
       "      <td>0</td>\n",
       "      <td>0</td>\n",
       "      <td>Yes</td>\n",
       "      <td>No</td>\n",
       "      <td>0</td>\n",
       "      <td>6</td>\n",
       "      <td>No</td>\n",
       "      <td>0</td>\n",
       "      <td>10</td>\n",
       "      <td>No</td>\n",
       "      <td>4-Medium</td>\n",
       "      <td>Other</td>\n",
       "      <td>Other</td>\n",
       "      <td>No</td>\n",
       "      <td>Female</td>\n",
       "      <td>0</td>\n",
       "      <td>Yes</td>\n",
       "      <td>Yes</td>\n",
       "      <td>35</td>\n",
       "      <td>No</td>\n",
       "      <td>No internet service</td>\n",
       "      <td>No internet service</td>\n",
       "      <td>No internet service</td>\n",
       "      <td>No internet service</td>\n",
       "      <td>No internet service</td>\n",
       "      <td>No internet service</td>\n",
       "      <td>Two year</td>\n",
       "      <td>No</td>\n",
       "      <td>Credit card (automatic)</td>\n",
       "      <td>Regular</td>\n",
       "    </tr>\n",
       "    <tr>\n",
       "      <th>4</th>\n",
       "      <td>4</td>\n",
       "      <td>3000026</td>\n",
       "      <td>Yes</td>\n",
       "      <td>17.14</td>\n",
       "      <td>0.0</td>\n",
       "      <td>17.0</td>\n",
       "      <td>0.0</td>\n",
       "      <td>0.0</td>\n",
       "      <td>0.0</td>\n",
       "      <td>0.0</td>\n",
       "      <td>-0.2</td>\n",
       "      <td>0.0</td>\n",
       "      <td>0.0</td>\n",
       "      <td>0.0</td>\n",
       "      <td>0.0</td>\n",
       "      <td>0.0</td>\n",
       "      <td>0.0</td>\n",
       "      <td>0.0</td>\n",
       "      <td>0.0</td>\n",
       "      <td>0.0</td>\n",
       "      <td>0.0</td>\n",
       "      <td>0.0</td>\n",
       "      <td>0.0</td>\n",
       "      <td>0.0</td>\n",
       "      <td>53</td>\n",
       "      <td>2</td>\n",
       "      <td>2</td>\n",
       "      <td>OKCTUL918</td>\n",
       "      <td>4.0</td>\n",
       "      <td>3.0</td>\n",
       "      <td>852.0</td>\n",
       "      <td>46.0</td>\n",
       "      <td>54.0</td>\n",
       "      <td>No</td>\n",
       "      <td>No</td>\n",
       "      <td>No</td>\n",
       "      <td>No</td>\n",
       "      <td>No</td>\n",
       "      <td>Known</td>\n",
       "      <td>Yes</td>\n",
       "      <td>Yes</td>\n",
       "      <td>No</td>\n",
       "      <td>No</td>\n",
       "      <td>Yes</td>\n",
       "      <td>Yes</td>\n",
       "      <td>0</td>\n",
       "      <td>0</td>\n",
       "      <td>No</td>\n",
       "      <td>Yes</td>\n",
       "      <td>0</td>\n",
       "      <td>9</td>\n",
       "      <td>No</td>\n",
       "      <td>1</td>\n",
       "      <td>10</td>\n",
       "      <td>No</td>\n",
       "      <td>1-Highest</td>\n",
       "      <td>Other</td>\n",
       "      <td>Professional</td>\n",
       "      <td>Yes</td>\n",
       "      <td>Female</td>\n",
       "      <td>0</td>\n",
       "      <td>No</td>\n",
       "      <td>No</td>\n",
       "      <td>32</td>\n",
       "      <td>Fiber optic</td>\n",
       "      <td>Yes</td>\n",
       "      <td>No</td>\n",
       "      <td>Yes</td>\n",
       "      <td>Yes</td>\n",
       "      <td>Yes</td>\n",
       "      <td>Yes</td>\n",
       "      <td>One year</td>\n",
       "      <td>Yes</td>\n",
       "      <td>Bank transfer (automatic)</td>\n",
       "      <td>Loyal</td>\n",
       "    </tr>\n",
       "  </tbody>\n",
       "</table>\n",
       "</div>"
      ],
      "text/plain": [
       "   id CustomerID Churn MonthlyRevenue MonthlyMinutes TotalRecurringCharge  \\\n",
       "0   0    3000002   Yes           24.0          219.0                 22.0   \n",
       "1   1    3000010   Yes          16.99           10.0                 17.0   \n",
       "2   2    3000014    No           38.0            8.0                 38.0   \n",
       "3   3    3000022    No          82.28         1312.0                 75.0   \n",
       "4   4    3000026   Yes          17.14            0.0                 17.0   \n",
       "\n",
       "  DirectorAssistedCalls OverageMinutes RoamingCalls PercChangeMinutes  \\\n",
       "0                  0.25            0.0          0.0            -157.0   \n",
       "1                   0.0            0.0          0.0              -4.0   \n",
       "2                   0.0            0.0          0.0              -2.0   \n",
       "3                  1.24            0.0          0.0             157.0   \n",
       "4                   0.0            0.0          0.0               0.0   \n",
       "\n",
       "  PercChangeRevenues DroppedCalls BlockedCalls UnansweredCalls  \\\n",
       "0              -19.0          0.7          0.7             6.3   \n",
       "1                0.0          0.3          0.0             2.7   \n",
       "2                0.0          0.0          0.0             0.0   \n",
       "3                8.1         52.0          7.7            76.0   \n",
       "4               -0.2          0.0          0.0             0.0   \n",
       "\n",
       "  CustomerCareCalls ThreewayCalls ReceivedCalls OutboundCalls InboundCalls  \\\n",
       "0               0.0           0.0          97.2           0.0          0.0   \n",
       "1               0.0           0.0           0.0           0.0          0.0   \n",
       "2               0.0           0.0           0.4           0.3          0.0   \n",
       "3               4.3           1.3         200.3         370.3        147.0   \n",
       "4               0.0           0.0           0.0           0.0          0.0   \n",
       "\n",
       "  PeakCallsInOut OffPeakCallsInOut DroppedBlockedCalls CallForwardingCalls  \\\n",
       "0           58.0              24.0                 1.3                 0.0   \n",
       "1            5.0               1.0                 0.3                 0.0   \n",
       "2            1.3               3.7                 0.0                 0.0   \n",
       "3          555.7             303.7                59.7                 0.0   \n",
       "4            0.0               0.0                 0.0                 0.0   \n",
       "\n",
       "  CallWaitingCalls MonthsInService UniqueSubs ActiveSubs ServiceArea Handsets  \\\n",
       "0              0.3              61          2          1   SEAPOR503      2.0   \n",
       "1              0.0              58          1          1   PITHOM412      2.0   \n",
       "2              0.0              60          1          1   MILMIL414      1.0   \n",
       "3             22.7              59          2          2   PITHOM412      9.0   \n",
       "4              0.0              53          2          2   OKCTUL918      4.0   \n",
       "\n",
       "  HandsetModels CurrentEquipmentDays AgeHH1 AgeHH2 ChildrenInHH  \\\n",
       "0           2.0                361.0   62.0    0.0           No   \n",
       "1           1.0               1504.0   40.0   42.0          Yes   \n",
       "2           1.0               1812.0   26.0   26.0          Yes   \n",
       "3           4.0                458.0   30.0    0.0           No   \n",
       "4           3.0                852.0   46.0   54.0           No   \n",
       "\n",
       "  HandsetRefurbished HandsetWebCapable TruckOwner RVOwner Homeownership  \\\n",
       "0                 No               Yes         No      No         Known   \n",
       "1                 No                No         No      No         Known   \n",
       "2                 No                No         No      No       Unknown   \n",
       "3                 No               Yes         No      No         Known   \n",
       "4                 No                No         No      No         Known   \n",
       "\n",
       "  BuysViaMailOrder RespondsToMailOffers OptOutMailings NonUSTravel  \\\n",
       "0              Yes                  Yes             No          No   \n",
       "1              Yes                  Yes             No          No   \n",
       "2               No                   No             No          No   \n",
       "3              Yes                  Yes             No          No   \n",
       "4              Yes                  Yes             No          No   \n",
       "\n",
       "  OwnsComputer HasCreditCard RetentionCalls RetentionOffersAccepted  \\\n",
       "0          Yes           Yes              1                       0   \n",
       "1          Yes           Yes              0                       0   \n",
       "2           No           Yes              0                       0   \n",
       "3           No           Yes              0                       0   \n",
       "4          Yes           Yes              0                       0   \n",
       "\n",
       "  NewCellphoneUser NotNewCellphoneUser ReferralsMadeBySubscriber IncomeGroup  \\\n",
       "0               No                  No                         0           4   \n",
       "1              Yes                  No                         0           5   \n",
       "2              Yes                  No                         0           6   \n",
       "3              Yes                  No                         0           6   \n",
       "4               No                 Yes                         0           9   \n",
       "\n",
       "  OwnsMotorcycle AdjustmentsToCreditRating HandsetPrice  \\\n",
       "0             No                         0           30   \n",
       "1             No                         0           30   \n",
       "2             No                         0      Unknown   \n",
       "3             No                         0           10   \n",
       "4             No                         1           10   \n",
       "\n",
       "  MadeCallToRetentionTeam CreditRating PrizmCode    Occupation MaritalStatus  \\\n",
       "0                     Yes    1-Highest  Suburban  Professional            No   \n",
       "1                      No     4-Medium  Suburban  Professional           Yes   \n",
       "2                      No       3-Good      Town        Crafts           Yes   \n",
       "3                      No     4-Medium     Other         Other            No   \n",
       "4                      No    1-Highest     Other  Professional           Yes   \n",
       "\n",
       "   Gender SeniorCitizen Partner Dependents Tenure InternetService  \\\n",
       "0  Female             0      No         No     65             DSL   \n",
       "1    Male             0      No        Yes     53             DSL   \n",
       "2  Female             0      No         No      1             DSL   \n",
       "3  Female             0     Yes        Yes     35              No   \n",
       "4  Female             0      No         No     32     Fiber optic   \n",
       "\n",
       "        OnlineSecurity         OnlineBackup     DeviceProtection  \\\n",
       "0                  Yes                  Yes                  Yes   \n",
       "1                  Yes                  Yes                   No   \n",
       "2                   No                   No                   No   \n",
       "3  No internet service  No internet service  No internet service   \n",
       "4                  Yes                   No                  Yes   \n",
       "\n",
       "           TechSupport          StreamingTV      StreamingMovies  \\\n",
       "0                  Yes                  Yes                  Yes   \n",
       "1                  Yes                   No                   No   \n",
       "2                   No                   No                  Yes   \n",
       "3  No internet service  No internet service  No internet service   \n",
       "4                  Yes                  Yes                  Yes   \n",
       "\n",
       "         Contract PaperlessBilling              PaymentMethod TenureLevel  \n",
       "0        Two year              Yes  Bank transfer (automatic)  Very Loyal  \n",
       "1        One year               No    Credit card (automatic)       Loyal  \n",
       "2  Month-to-month              Yes           Electronic check         New  \n",
       "3        Two year               No    Credit card (automatic)     Regular  \n",
       "4        One year              Yes  Bank transfer (automatic)       Loyal  "
      ]
     },
     "execution_count": 4,
     "metadata": {},
     "output_type": "execute_result"
    }
   ],
   "source": [
    "df=pd.read_sql('select * from temporary_table', engine)\n",
    "\n",
    "df.head()"
   ]
  },
  {
   "cell_type": "markdown",
   "id": "20d726df",
   "metadata": {},
   "source": [
    "## 3 - Check target variable\n",
    "\n",
    "Now we've already the data. We need to check what is the target variable. How many labels we have?. Are the classes balanced?"
   ]
  },
  {
   "cell_type": "code",
   "execution_count": 5,
   "id": "c6529393",
   "metadata": {},
   "outputs": [
    {
     "data": {
      "text/plain": [
       "2-High       18692\n",
       "1-Highest     8368\n",
       "3-Good        8221\n",
       "5-Low         6320\n",
       "4-Medium      5227\n",
       "7-Lowest      2049\n",
       "6-VeryLow      875\n",
       "Name: CreditRating, dtype: int64"
      ]
     },
     "execution_count": 5,
     "metadata": {},
     "output_type": "execute_result"
    }
   ],
   "source": [
    "# your code here\n",
    "\n",
    "df.CreditRating.value_counts()"
   ]
  },
  {
   "cell_type": "code",
   "execution_count": 6,
   "id": "42203e57",
   "metadata": {},
   "outputs": [
    {
     "data": {
      "text/plain": [
       "2-High       0.375703\n",
       "1-Highest    0.168194\n",
       "3-Good       0.165240\n",
       "5-Low        0.127030\n",
       "4-Medium     0.105061\n",
       "7-Lowest     0.041184\n",
       "6-VeryLow    0.017587\n",
       "Name: CreditRating, dtype: float64"
      ]
     },
     "execution_count": 6,
     "metadata": {},
     "output_type": "execute_result"
    }
   ],
   "source": [
    "df.CreditRating.value_counts()/len(df)"
   ]
  },
  {
   "cell_type": "code",
   "execution_count": 7,
   "id": "282e2b75",
   "metadata": {},
   "outputs": [
    {
     "data": {
      "image/png": "[encoded data removed]",
      "text/plain": [
       "<Figure size 720x432 with 1 Axes>"
      ]
     },
     "metadata": {
      "needs_background": "light"
     },
     "output_type": "display_data"
    }
   ],
   "source": [
    "(df.CreditRating.value_counts()/len(df)).plot.bar(color=['b', 'r', 'g'],    # plot customer churn rate\n",
    "                                                   figsize=(10, 6),\n",
    "                                                   title='Credit Rating',\n",
    "                                                   rot=0,\n",
    "                                                   fontsize=12);"
   ]
  },
  {
   "cell_type": "markdown",
   "id": "2b71a49f",
   "metadata": {},
   "source": [
    "## 4 - Data Transformation\n",
    "\n",
    "Remember, we need transform our data in order to build a prediction model. Feel free to make every single transformation you want."
   ]
  },
  {
   "cell_type": "code",
   "execution_count": 8,
   "id": "8297990c",
   "metadata": {},
   "outputs": [],
   "source": [
    "# your code here\n",
    "\n",
    "def change_all_dtypes(df):   \n",
    "    for c in df.columns:\n",
    "        try:\n",
    "            df[c]=df[c].astype(float)\n",
    "        except:\n",
    "            continue\n",
    "            \n",
    "    return df"
   ]
  },
  {
   "cell_type": "code",
   "execution_count": 9,
   "id": "5071bae5",
   "metadata": {},
   "outputs": [],
   "source": [
    "df=change_all_dtypes(df)   # change dtypes"
   ]
  },
  {
   "cell_type": "code",
   "execution_count": 10,
   "id": "9e791c6e",
   "metadata": {},
   "outputs": [],
   "source": [
    "# dropping columns\n",
    "\n",
    "data=df.drop(columns=['CustomerID',\n",
    "                      'MonthlyMinutes',\n",
    "                      'HandsetModels',\n",
    "                      'id',\n",
    "                      'Handsets',\n",
    "                      'ReceivedCalls',\n",
    "                      'MonthsInService',\n",
    "                      'ServiceArea'\n",
    "                     ])"
   ]
  },
  {
   "cell_type": "code",
   "execution_count": 11,
   "id": "1e353511",
   "metadata": {},
   "outputs": [],
   "source": [
    "data_num=pd.DataFrame(StandardScaler().fit_transform(data._get_numeric_data()),  # standardize numeric columns\n",
    "                      columns=data._get_numeric_data().columns)\n",
    "\n",
    "data_obj=data.select_dtypes(include='object')  # get categoric columns\n",
    "\n",
    "\n",
    "data=pd.concat([data_num, data_obj], axis=1)   # concatenate both dataframes"
   ]
  },
  {
   "cell_type": "code",
   "execution_count": 12,
   "id": "3990580c",
   "metadata": {},
   "outputs": [],
   "source": [
    "# label encoding \n",
    "\n",
    "le=LabelEncoder()\n",
    "\n",
    "for c in data.columns:\n",
    "    if data.dtypes[c]==object:\n",
    "        le.fit(data[c].astype(str))\n",
    "        data[c]=le.transform(data[c].astype(str))"
   ]
  },
  {
   "cell_type": "code",
   "execution_count": 13,
   "id": "dc050fb6",
   "metadata": {},
   "outputs": [
    {
     "data": {
      "text/plain": [
       "(49752, 67)"
      ]
     },
     "execution_count": 13,
     "metadata": {},
     "output_type": "execute_result"
    }
   ],
   "source": [
    "data.shape"
   ]
  },
  {
   "cell_type": "code",
   "execution_count": 14,
   "id": "82d589ce",
   "metadata": {},
   "outputs": [
    {
     "data": {
      "text/html": [
       "<div>\n",
       "<style scoped>\n",
       "    .dataframe tbody tr th:only-of-type {\n",
       "        vertical-align: middle;\n",
       "    }\n",
       "\n",
       "    .dataframe tbody tr th {\n",
       "        vertical-align: top;\n",
       "    }\n",
       "\n",
       "    .dataframe thead th {\n",
       "        text-align: right;\n",
       "    }\n",
       "</style>\n",
       "<table border=\"1\" class=\"dataframe\">\n",
       "  <thead>\n",
       "    <tr style=\"text-align: right;\">\n",
       "      <th></th>\n",
       "      <th>MonthlyRevenue</th>\n",
       "      <th>TotalRecurringCharge</th>\n",
       "      <th>DirectorAssistedCalls</th>\n",
       "      <th>OverageMinutes</th>\n",
       "      <th>RoamingCalls</th>\n",
       "      <th>PercChangeMinutes</th>\n",
       "      <th>PercChangeRevenues</th>\n",
       "      <th>DroppedCalls</th>\n",
       "      <th>BlockedCalls</th>\n",
       "      <th>UnansweredCalls</th>\n",
       "      <th>CustomerCareCalls</th>\n",
       "      <th>ThreewayCalls</th>\n",
       "      <th>OutboundCalls</th>\n",
       "      <th>InboundCalls</th>\n",
       "      <th>PeakCallsInOut</th>\n",
       "      <th>OffPeakCallsInOut</th>\n",
       "      <th>DroppedBlockedCalls</th>\n",
       "      <th>CallForwardingCalls</th>\n",
       "      <th>CallWaitingCalls</th>\n",
       "      <th>UniqueSubs</th>\n",
       "      <th>ActiveSubs</th>\n",
       "      <th>CurrentEquipmentDays</th>\n",
       "      <th>AgeHH1</th>\n",
       "      <th>AgeHH2</th>\n",
       "      <th>RetentionCalls</th>\n",
       "      <th>RetentionOffersAccepted</th>\n",
       "      <th>ReferralsMadeBySubscriber</th>\n",
       "      <th>IncomeGroup</th>\n",
       "      <th>AdjustmentsToCreditRating</th>\n",
       "      <th>SeniorCitizen</th>\n",
       "      <th>Tenure</th>\n",
       "      <th>Churn</th>\n",
       "      <th>ChildrenInHH</th>\n",
       "      <th>HandsetRefurbished</th>\n",
       "      <th>HandsetWebCapable</th>\n",
       "      <th>TruckOwner</th>\n",
       "      <th>RVOwner</th>\n",
       "      <th>Homeownership</th>\n",
       "      <th>BuysViaMailOrder</th>\n",
       "      <th>RespondsToMailOffers</th>\n",
       "      <th>OptOutMailings</th>\n",
       "      <th>NonUSTravel</th>\n",
       "      <th>OwnsComputer</th>\n",
       "      <th>HasCreditCard</th>\n",
       "      <th>NewCellphoneUser</th>\n",
       "      <th>NotNewCellphoneUser</th>\n",
       "      <th>OwnsMotorcycle</th>\n",
       "      <th>HandsetPrice</th>\n",
       "      <th>MadeCallToRetentionTeam</th>\n",
       "      <th>CreditRating</th>\n",
       "      <th>PrizmCode</th>\n",
       "      <th>Occupation</th>\n",
       "      <th>MaritalStatus</th>\n",
       "      <th>Gender</th>\n",
       "      <th>Partner</th>\n",
       "      <th>Dependents</th>\n",
       "      <th>InternetService</th>\n",
       "      <th>OnlineSecurity</th>\n",
       "      <th>OnlineBackup</th>\n",
       "      <th>DeviceProtection</th>\n",
       "      <th>TechSupport</th>\n",
       "      <th>StreamingTV</th>\n",
       "      <th>StreamingMovies</th>\n",
       "      <th>Contract</th>\n",
       "      <th>PaperlessBilling</th>\n",
       "      <th>PaymentMethod</th>\n",
       "      <th>TenureLevel</th>\n",
       "    </tr>\n",
       "  </thead>\n",
       "  <tbody>\n",
       "    <tr>\n",
       "      <th>0</th>\n",
       "      <td>-0.783391</td>\n",
       "      <td>-1.045275</td>\n",
       "      <td>-0.288506</td>\n",
       "      <td>-0.413714</td>\n",
       "      <td>-0.124522</td>\n",
       "      <td>-0.568070</td>\n",
       "      <td>-0.452482</td>\n",
       "      <td>-0.587674</td>\n",
       "      <td>-0.311711</td>\n",
       "      <td>-0.565902</td>\n",
       "      <td>-0.366649</td>\n",
       "      <td>-0.254828</td>\n",
       "      <td>-0.723803</td>\n",
       "      <td>-0.492182</td>\n",
       "      <td>-0.310234</td>\n",
       "      <td>-0.471357</td>\n",
       "      <td>-0.572545</td>\n",
       "      <td>-0.020214</td>\n",
       "      <td>-0.274974</td>\n",
       "      <td>0.384227</td>\n",
       "      <td>-0.525372</td>\n",
       "      <td>-0.075394</td>\n",
       "      <td>1.387951</td>\n",
       "      <td>-0.883862</td>\n",
       "      <td>4.775674</td>\n",
       "      <td>-0.128321</td>\n",
       "      <td>-0.193162</td>\n",
       "      <td>-0.129459</td>\n",
       "      <td>-0.140293</td>\n",
       "      <td>-0.438968</td>\n",
       "      <td>1.327621</td>\n",
       "      <td>1</td>\n",
       "      <td>0</td>\n",
       "      <td>0</td>\n",
       "      <td>1</td>\n",
       "      <td>0</td>\n",
       "      <td>0</td>\n",
       "      <td>0</td>\n",
       "      <td>1</td>\n",
       "      <td>1</td>\n",
       "      <td>0</td>\n",
       "      <td>0</td>\n",
       "      <td>1</td>\n",
       "      <td>1</td>\n",
       "      <td>0</td>\n",
       "      <td>0</td>\n",
       "      <td>0</td>\n",
       "      <td>8</td>\n",
       "      <td>1</td>\n",
       "      <td>0</td>\n",
       "      <td>2</td>\n",
       "      <td>4</td>\n",
       "      <td>0</td>\n",
       "      <td>0</td>\n",
       "      <td>0</td>\n",
       "      <td>0</td>\n",
       "      <td>0</td>\n",
       "      <td>2</td>\n",
       "      <td>2</td>\n",
       "      <td>2</td>\n",
       "      <td>2</td>\n",
       "      <td>2</td>\n",
       "      <td>2</td>\n",
       "      <td>2</td>\n",
       "      <td>1</td>\n",
       "      <td>0</td>\n",
       "      <td>3</td>\n",
       "    </tr>\n",
       "    <tr>\n",
       "      <th>1</th>\n",
       "      <td>-0.941570</td>\n",
       "      <td>-1.255720</td>\n",
       "      <td>-0.400881</td>\n",
       "      <td>-0.413714</td>\n",
       "      <td>-0.124522</td>\n",
       "      <td>0.029924</td>\n",
       "      <td>0.029852</td>\n",
       "      <td>-0.631939</td>\n",
       "      <td>-0.376308</td>\n",
       "      <td>-0.658542</td>\n",
       "      <td>-0.366649</td>\n",
       "      <td>-0.254828</td>\n",
       "      <td>-0.723803</td>\n",
       "      <td>-0.492182</td>\n",
       "      <td>-0.816926</td>\n",
       "      <td>-0.719375</td>\n",
       "      <td>-0.637245</td>\n",
       "      <td>-0.020214</td>\n",
       "      <td>-0.328636</td>\n",
       "      <td>-0.431548</td>\n",
       "      <td>-0.525372</td>\n",
       "      <td>4.455151</td>\n",
       "      <td>0.392087</td>\n",
       "      <td>0.871525</td>\n",
       "      <td>-0.175756</td>\n",
       "      <td>-0.128321</td>\n",
       "      <td>-0.193162</td>\n",
       "      <td>0.192036</td>\n",
       "      <td>-0.140293</td>\n",
       "      <td>-0.438968</td>\n",
       "      <td>0.838668</td>\n",
       "      <td>1</td>\n",
       "      <td>1</td>\n",
       "      <td>0</td>\n",
       "      <td>0</td>\n",
       "      <td>0</td>\n",
       "      <td>0</td>\n",
       "      <td>0</td>\n",
       "      <td>1</td>\n",
       "      <td>1</td>\n",
       "      <td>0</td>\n",
       "      <td>0</td>\n",
       "      <td>1</td>\n",
       "      <td>1</td>\n",
       "      <td>1</td>\n",
       "      <td>0</td>\n",
       "      <td>0</td>\n",
       "      <td>8</td>\n",
       "      <td>0</td>\n",
       "      <td>3</td>\n",
       "      <td>2</td>\n",
       "      <td>4</td>\n",
       "      <td>2</td>\n",
       "      <td>1</td>\n",
       "      <td>0</td>\n",
       "      <td>1</td>\n",
       "      <td>0</td>\n",
       "      <td>2</td>\n",
       "      <td>2</td>\n",
       "      <td>0</td>\n",
       "      <td>2</td>\n",
       "      <td>0</td>\n",
       "      <td>0</td>\n",
       "      <td>1</td>\n",
       "      <td>0</td>\n",
       "      <td>1</td>\n",
       "      <td>0</td>\n",
       "    </tr>\n",
       "    <tr>\n",
       "      <th>2</th>\n",
       "      <td>-0.467484</td>\n",
       "      <td>-0.371853</td>\n",
       "      <td>-0.400881</td>\n",
       "      <td>-0.413714</td>\n",
       "      <td>-0.124522</td>\n",
       "      <td>0.037741</td>\n",
       "      <td>0.029852</td>\n",
       "      <td>-0.665137</td>\n",
       "      <td>-0.376308</td>\n",
       "      <td>-0.728022</td>\n",
       "      <td>-0.366649</td>\n",
       "      <td>-0.254828</td>\n",
       "      <td>-0.715237</td>\n",
       "      <td>-0.492182</td>\n",
       "      <td>-0.852299</td>\n",
       "      <td>-0.690260</td>\n",
       "      <td>-0.656655</td>\n",
       "      <td>-0.020214</td>\n",
       "      <td>-0.328636</td>\n",
       "      <td>-0.431548</td>\n",
       "      <td>-0.525372</td>\n",
       "      <td>5.675981</td>\n",
       "      <td>-0.241644</td>\n",
       "      <td>0.202806</td>\n",
       "      <td>-0.175756</td>\n",
       "      <td>-0.128321</td>\n",
       "      <td>-0.193162</td>\n",
       "      <td>0.513532</td>\n",
       "      <td>-0.140293</td>\n",
       "      <td>-0.438968</td>\n",
       "      <td>-1.280129</td>\n",
       "      <td>0</td>\n",
       "      <td>1</td>\n",
       "      <td>0</td>\n",
       "      <td>0</td>\n",
       "      <td>0</td>\n",
       "      <td>0</td>\n",
       "      <td>1</td>\n",
       "      <td>0</td>\n",
       "      <td>0</td>\n",
       "      <td>0</td>\n",
       "      <td>0</td>\n",
       "      <td>0</td>\n",
       "      <td>1</td>\n",
       "      <td>1</td>\n",
       "      <td>0</td>\n",
       "      <td>0</td>\n",
       "      <td>15</td>\n",
       "      <td>0</td>\n",
       "      <td>2</td>\n",
       "      <td>3</td>\n",
       "      <td>1</td>\n",
       "      <td>2</td>\n",
       "      <td>0</td>\n",
       "      <td>0</td>\n",
       "      <td>0</td>\n",
       "      <td>0</td>\n",
       "      <td>0</td>\n",
       "      <td>0</td>\n",
       "      <td>0</td>\n",
       "      <td>0</td>\n",
       "      <td>0</td>\n",
       "      <td>2</td>\n",
       "      <td>0</td>\n",
       "      <td>1</td>\n",
       "      <td>2</td>\n",
       "      <td>1</td>\n",
       "    </tr>\n",
       "    <tr>\n",
       "      <th>3</th>\n",
       "      <td>0.531686</td>\n",
       "      <td>1.185434</td>\n",
       "      <td>0.156497</td>\n",
       "      <td>-0.413714</td>\n",
       "      <td>-0.124522</td>\n",
       "      <td>0.659185</td>\n",
       "      <td>0.235479</td>\n",
       "      <td>5.089263</td>\n",
       "      <td>0.334262</td>\n",
       "      <td>1.227715</td>\n",
       "      <td>0.474635</td>\n",
       "      <td>0.855266</td>\n",
       "      <td>9.849010</td>\n",
       "      <td>8.370346</td>\n",
       "      <td>4.447898</td>\n",
       "      <td>2.544760</td>\n",
       "      <td>3.205954</td>\n",
       "      <td>-0.020214</td>\n",
       "      <td>3.731853</td>\n",
       "      <td>0.384227</td>\n",
       "      <td>0.972010</td>\n",
       "      <td>0.309088</td>\n",
       "      <td>-0.060578</td>\n",
       "      <td>-0.883862</td>\n",
       "      <td>-0.175756</td>\n",
       "      <td>-0.128321</td>\n",
       "      <td>-0.193162</td>\n",
       "      <td>0.513532</td>\n",
       "      <td>-0.140293</td>\n",
       "      <td>-0.438968</td>\n",
       "      <td>0.105238</td>\n",
       "      <td>0</td>\n",
       "      <td>0</td>\n",
       "      <td>0</td>\n",
       "      <td>1</td>\n",
       "      <td>0</td>\n",
       "      <td>0</td>\n",
       "      <td>0</td>\n",
       "      <td>1</td>\n",
       "      <td>1</td>\n",
       "      <td>0</td>\n",
       "      <td>0</td>\n",
       "      <td>0</td>\n",
       "      <td>1</td>\n",
       "      <td>1</td>\n",
       "      <td>0</td>\n",
       "      <td>0</td>\n",
       "      <td>0</td>\n",
       "      <td>0</td>\n",
       "      <td>3</td>\n",
       "      <td>0</td>\n",
       "      <td>3</td>\n",
       "      <td>0</td>\n",
       "      <td>0</td>\n",
       "      <td>1</td>\n",
       "      <td>1</td>\n",
       "      <td>2</td>\n",
       "      <td>1</td>\n",
       "      <td>1</td>\n",
       "      <td>1</td>\n",
       "      <td>1</td>\n",
       "      <td>1</td>\n",
       "      <td>1</td>\n",
       "      <td>2</td>\n",
       "      <td>0</td>\n",
       "      <td>1</td>\n",
       "      <td>2</td>\n",
       "    </tr>\n",
       "    <tr>\n",
       "      <th>4</th>\n",
       "      <td>-0.938185</td>\n",
       "      <td>-1.255720</td>\n",
       "      <td>-0.400881</td>\n",
       "      <td>-0.413714</td>\n",
       "      <td>-0.124522</td>\n",
       "      <td>0.045558</td>\n",
       "      <td>0.024775</td>\n",
       "      <td>-0.665137</td>\n",
       "      <td>-0.376308</td>\n",
       "      <td>-0.728022</td>\n",
       "      <td>-0.366649</td>\n",
       "      <td>-0.254828</td>\n",
       "      <td>-0.723803</td>\n",
       "      <td>-0.492182</td>\n",
       "      <td>-0.864728</td>\n",
       "      <td>-0.730159</td>\n",
       "      <td>-0.656655</td>\n",
       "      <td>-0.020214</td>\n",
       "      <td>-0.328636</td>\n",
       "      <td>0.384227</td>\n",
       "      <td>0.972010</td>\n",
       "      <td>1.870799</td>\n",
       "      <td>0.663686</td>\n",
       "      <td>1.373064</td>\n",
       "      <td>-0.175756</td>\n",
       "      <td>-0.128321</td>\n",
       "      <td>-0.193162</td>\n",
       "      <td>1.478017</td>\n",
       "      <td>2.472906</td>\n",
       "      <td>-0.438968</td>\n",
       "      <td>-0.017000</td>\n",
       "      <td>1</td>\n",
       "      <td>0</td>\n",
       "      <td>0</td>\n",
       "      <td>0</td>\n",
       "      <td>0</td>\n",
       "      <td>0</td>\n",
       "      <td>0</td>\n",
       "      <td>1</td>\n",
       "      <td>1</td>\n",
       "      <td>0</td>\n",
       "      <td>0</td>\n",
       "      <td>1</td>\n",
       "      <td>1</td>\n",
       "      <td>0</td>\n",
       "      <td>1</td>\n",
       "      <td>0</td>\n",
       "      <td>0</td>\n",
       "      <td>0</td>\n",
       "      <td>0</td>\n",
       "      <td>0</td>\n",
       "      <td>4</td>\n",
       "      <td>2</td>\n",
       "      <td>0</td>\n",
       "      <td>0</td>\n",
       "      <td>0</td>\n",
       "      <td>1</td>\n",
       "      <td>2</td>\n",
       "      <td>0</td>\n",
       "      <td>2</td>\n",
       "      <td>2</td>\n",
       "      <td>2</td>\n",
       "      <td>2</td>\n",
       "      <td>1</td>\n",
       "      <td>1</td>\n",
       "      <td>0</td>\n",
       "      <td>0</td>\n",
       "    </tr>\n",
       "  </tbody>\n",
       "</table>\n",
       "</div>"
      ],
      "text/plain": [
       "   MonthlyRevenue  TotalRecurringCharge  DirectorAssistedCalls  \\\n",
       "0       -0.783391             -1.045275              -0.288506   \n",
       "1       -0.941570             -1.255720              -0.400881   \n",
       "2       -0.467484             -0.371853              -0.400881   \n",
       "3        0.531686              1.185434               0.156497   \n",
       "4       -0.938185             -1.255720              -0.400881   \n",
       "\n",
       "   OverageMinutes  RoamingCalls  PercChangeMinutes  PercChangeRevenues  \\\n",
       "0       -0.413714     -0.124522          -0.568070           -0.452482   \n",
       "1       -0.413714     -0.124522           0.029924            0.029852   \n",
       "2       -0.413714     -0.124522           0.037741            0.029852   \n",
       "3       -0.413714     -0.124522           0.659185            0.235479   \n",
       "4       -0.413714     -0.124522           0.045558            0.024775   \n",
       "\n",
       "   DroppedCalls  BlockedCalls  UnansweredCalls  CustomerCareCalls  \\\n",
       "0     -0.587674     -0.311711        -0.565902          -0.366649   \n",
       "1     -0.631939     -0.376308        -0.658542          -0.366649   \n",
       "2     -0.665137     -0.376308        -0.728022          -0.366649   \n",
       "3      5.089263      0.334262         1.227715           0.474635   \n",
       "4     -0.665137     -0.376308        -0.728022          -0.366649   \n",
       "\n",
       "   ThreewayCalls  OutboundCalls  InboundCalls  PeakCallsInOut  \\\n",
       "0      -0.254828      -0.723803     -0.492182       -0.310234   \n",
       "1      -0.254828      -0.723803     -0.492182       -0.816926   \n",
       "2      -0.254828      -0.715237     -0.492182       -0.852299   \n",
       "3       0.855266       9.849010      8.370346        4.447898   \n",
       "4      -0.254828      -0.723803     -0.492182       -0.864728   \n",
       "\n",
       "   OffPeakCallsInOut  DroppedBlockedCalls  CallForwardingCalls  \\\n",
       "0          -0.471357            -0.572545            -0.020214   \n",
       "1          -0.719375            -0.637245            -0.020214   \n",
       "2          -0.690260            -0.656655            -0.020214   \n",
       "3           2.544760             3.205954            -0.020214   \n",
       "4          -0.730159            -0.656655            -0.020214   \n",
       "\n",
       "   CallWaitingCalls  UniqueSubs  ActiveSubs  CurrentEquipmentDays    AgeHH1  \\\n",
       "0         -0.274974    0.384227   -0.525372             -0.075394  1.387951   \n",
       "1         -0.328636   -0.431548   -0.525372              4.455151  0.392087   \n",
       "2         -0.328636   -0.431548   -0.525372              5.675981 -0.241644   \n",
       "3          3.731853    0.384227    0.972010              0.309088 -0.060578   \n",
       "4         -0.328636    0.384227    0.972010              1.870799  0.663686   \n",
       "\n",
       "     AgeHH2  RetentionCalls  RetentionOffersAccepted  \\\n",
       "0 -0.883862        4.775674                -0.128321   \n",
       "1  0.871525       -0.175756                -0.128321   \n",
       "2  0.202806       -0.175756                -0.128321   \n",
       "3 -0.883862       -0.175756                -0.128321   \n",
       "4  1.373064       -0.175756                -0.128321   \n",
       "\n",
       "   ReferralsMadeBySubscriber  IncomeGroup  AdjustmentsToCreditRating  \\\n",
       "0                  -0.193162    -0.129459                  -0.140293   \n",
       "1                  -0.193162     0.192036                  -0.140293   \n",
       "2                  -0.193162     0.513532                  -0.140293   \n",
       "3                  -0.193162     0.513532                  -0.140293   \n",
       "4                  -0.193162     1.478017                   2.472906   \n",
       "\n",
       "   SeniorCitizen    Tenure  Churn  ChildrenInHH  HandsetRefurbished  \\\n",
       "0      -0.438968  1.327621      1             0                   0   \n",
       "1      -0.438968  0.838668      1             1                   0   \n",
       "2      -0.438968 -1.280129      0             1                   0   \n",
       "3      -0.438968  0.105238      0             0                   0   \n",
       "4      -0.438968 -0.017000      1             0                   0   \n",
       "\n",
       "   HandsetWebCapable  TruckOwner  RVOwner  Homeownership  BuysViaMailOrder  \\\n",
       "0                  1           0        0              0                 1   \n",
       "1                  0           0        0              0                 1   \n",
       "2                  0           0        0              1                 0   \n",
       "3                  1           0        0              0                 1   \n",
       "4                  0           0        0              0                 1   \n",
       "\n",
       "   RespondsToMailOffers  OptOutMailings  NonUSTravel  OwnsComputer  \\\n",
       "0                     1               0            0             1   \n",
       "1                     1               0            0             1   \n",
       "2                     0               0            0             0   \n",
       "3                     1               0            0             0   \n",
       "4                     1               0            0             1   \n",
       "\n",
       "   HasCreditCard  NewCellphoneUser  NotNewCellphoneUser  OwnsMotorcycle  \\\n",
       "0              1                 0                    0               0   \n",
       "1              1                 1                    0               0   \n",
       "2              1                 1                    0               0   \n",
       "3              1                 1                    0               0   \n",
       "4              1                 0                    1               0   \n",
       "\n",
       "   HandsetPrice  MadeCallToRetentionTeam  CreditRating  PrizmCode  Occupation  \\\n",
       "0             8                        1             0          2           4   \n",
       "1             8                        0             3          2           4   \n",
       "2            15                        0             2          3           1   \n",
       "3             0                        0             3          0           3   \n",
       "4             0                        0             0          0           4   \n",
       "\n",
       "   MaritalStatus  Gender  Partner  Dependents  InternetService  \\\n",
       "0              0       0        0           0                0   \n",
       "1              2       1        0           1                0   \n",
       "2              2       0        0           0                0   \n",
       "3              0       0        1           1                2   \n",
       "4              2       0        0           0                1   \n",
       "\n",
       "   OnlineSecurity  OnlineBackup  DeviceProtection  TechSupport  StreamingTV  \\\n",
       "0               2             2                 2            2            2   \n",
       "1               2             2                 0            2            0   \n",
       "2               0             0                 0            0            0   \n",
       "3               1             1                 1            1            1   \n",
       "4               2             0                 2            2            2   \n",
       "\n",
       "   StreamingMovies  Contract  PaperlessBilling  PaymentMethod  TenureLevel  \n",
       "0                2         2                 1              0            3  \n",
       "1                0         1                 0              1            0  \n",
       "2                2         0                 1              2            1  \n",
       "3                1         2                 0              1            2  \n",
       "4                2         1                 1              0            0  "
      ]
     },
     "execution_count": 14,
     "metadata": {},
     "output_type": "execute_result"
    }
   ],
   "source": [
    "data.head()"
   ]
  },
  {
   "cell_type": "markdown",
   "id": "f5fca952",
   "metadata": {},
   "source": [
    "## 5 - Logictic Regression Modeling\n",
    "\n",
    "Once the data is transformed, build a multilabel logistic regression model and make a few predictions."
   ]
  },
  {
   "cell_type": "code",
   "execution_count": 15,
   "id": "3ab2412d",
   "metadata": {},
   "outputs": [],
   "source": [
    "# your code here\n",
    "\n",
    "X=data.drop('CreditRating', axis=1)   # all data except target\n",
    "\n",
    "y=data.CreditRating                   # target data"
   ]
  },
  {
   "cell_type": "code",
   "execution_count": 16,
   "id": "412be40a",
   "metadata": {},
   "outputs": [],
   "source": [
    "X_train, X_test, y_train, y_test=tts(X, y, random_state=42)   # split data into train and test sets"
   ]
  },
  {
   "cell_type": "code",
   "execution_count": 17,
   "id": "4ca1f956",
   "metadata": {},
   "outputs": [
    {
     "data": {
      "text/plain": [
       "LogisticRegression(max_iter=2000)"
      ]
     },
     "execution_count": 17,
     "metadata": {},
     "output_type": "execute_result"
    }
   ],
   "source": [
    "#model\n",
    "\n",
    "logreg=LogisticRegression(max_iter=2000)\n",
    "\n",
    "logreg.fit(X_train, y_train)"
   ]
  },
  {
   "cell_type": "code",
   "execution_count": 18,
   "id": "eb1a1ffe",
   "metadata": {},
   "outputs": [
    {
     "data": {
      "text/plain": [
       "array([0, 1, 1, 1, 1, 0, 1, 1, 4, 1])"
      ]
     },
     "execution_count": 18,
     "metadata": {},
     "output_type": "execute_result"
    }
   ],
   "source": [
    "y_pred=logreg.predict(X_test)\n",
    "\n",
    "y_pred[:10]    # 10 predictions"
   ]
  },
  {
   "cell_type": "markdown",
   "id": "30ef3025",
   "metadata": {},
   "source": [
    "## 6 - Logistic Regression Evaluation\n",
    "\n",
    "Now, we have to evaluate the quality of our model. Is it performing well?"
   ]
  },
  {
   "cell_type": "code",
   "execution_count": 19,
   "id": "379ecf08",
   "metadata": {},
   "outputs": [
    {
     "data": {
      "text/plain": [
       "0.4492147719354666"
      ]
     },
     "execution_count": 19,
     "metadata": {},
     "output_type": "execute_result"
    }
   ],
   "source": [
    "# your code here\n",
    "\n",
    "logreg.score(X_train, y_train)    # accuracy in train dataset"
   ]
  },
  {
   "cell_type": "code",
   "execution_count": 20,
   "id": "2cfba95c",
   "metadata": {},
   "outputs": [
    {
     "data": {
      "text/plain": [
       "0.4499115613442676"
      ]
     },
     "execution_count": 20,
     "metadata": {},
     "output_type": "execute_result"
    }
   ],
   "source": [
    "logreg.score(X_test, y_test)      # accuracy in test dataset"
   ]
  },
  {
   "cell_type": "code",
   "execution_count": 21,
   "id": "742bfde2",
   "metadata": {},
   "outputs": [
    {
     "data": {
      "text/plain": [
       "0.23003591287878075"
      ]
     },
     "execution_count": 21,
     "metadata": {},
     "output_type": "execute_result"
    }
   ],
   "source": [
    "f1(y_test, y_pred, average='macro')    # F1-score multilabel"
   ]
  },
  {
   "cell_type": "code",
   "execution_count": 22,
   "id": "632c9aa2",
   "metadata": {},
   "outputs": [
    {
     "data": {
      "image/png": "[encoded data removed]",
      "text/plain": [
       "<Figure size 720x432 with 2 Axes>"
      ]
     },
     "metadata": {
      "needs_background": "light"
     },
     "output_type": "display_data"
    }
   ],
   "source": [
    "conf_matrix_rate=cm(y_test, y_pred)/sum(sum(cm(y_test, y_pred)))    # confusion matrix as a rate\n",
    "\n",
    "\n",
    "fig, ax=plt.subplots(figsize=(10,6))\n",
    "\n",
    "ax=sns.heatmap(conf_matrix_rate, \n",
    "               annot=True, \n",
    "               fmt='.4f',\n",
    "               ax=ax)\n",
    "\n",
    "plt.title('Confusion Matrix')\n",
    "plt.ylabel('Truth')\n",
    "plt.xlabel('Prediction')\n",
    "plt.show();"
   ]
  },
  {
   "cell_type": "markdown",
   "id": "d6f742b5",
   "metadata": {},
   "source": [
    "## 7 - Oversampling\n",
    "\n",
    "Now, we try to make a better model dealing with data itself. What happend if we do oversampling with SMOTE?"
   ]
  },
  {
   "cell_type": "code",
   "execution_count": 25,
   "id": "c1736e57",
   "metadata": {},
   "outputs": [],
   "source": [
    "# your code here\n",
    "\n",
    "\n",
    "X_train, X_test, y_train, y_test=tts(X, y, random_state=42)"
   ]
  },
  {
   "cell_type": "code",
   "execution_count": 23,
   "id": "940e748d",
   "metadata": {},
   "outputs": [],
   "source": [
    "\n",
    "oversample=SMOTE(sampling_strategy='not majority')\n",
    "\n",
    "X_train, y_train=oversample.fit_resample(X_train, y_train)"
   ]
  },
  {
   "cell_type": "code",
   "execution_count": 24,
   "id": "fc2fcd40",
   "metadata": {
    "scrolled": false
   },
   "outputs": [
    {
     "data": {
      "image/png": "[encoded data removed]",
      "text/plain": [
       "<Figure size 720x432 with 1 Axes>"
      ]
     },
     "metadata": {
      "needs_background": "light"
     },
     "output_type": "display_data"
    }
   ],
   "source": [
    "(y_train.value_counts()/len(y_train)).plot.bar(color=['b', 'r', 'g'],    # plot customer churn rate\n",
    "                                               figsize=(10, 6),\n",
    "                                               title='Credit Rating',\n",
    "                                               rot=0,\n",
    "                                               fontsize=12);"
   ]
  },
  {
   "cell_type": "markdown",
   "id": "907cd1a9",
   "metadata": {},
   "source": [
    "**Checking model with oversampled data**"
   ]
  },
  {
   "cell_type": "code",
   "execution_count": 26,
   "id": "b003e673",
   "metadata": {},
   "outputs": [
    {
     "data": {
      "text/plain": [
       "LogisticRegression(max_iter=2000)"
      ]
     },
     "execution_count": 26,
     "metadata": {},
     "output_type": "execute_result"
    }
   ],
   "source": [
    "logreg=LogisticRegression(max_iter=2000)\n",
    "\n",
    "logreg.fit(X_train, y_train)"
   ]
  },
  {
   "cell_type": "code",
   "execution_count": 27,
   "id": "68374da5",
   "metadata": {},
   "outputs": [],
   "source": [
    "y_pred=logreg.predict(X_test)"
   ]
  },
  {
   "cell_type": "code",
   "execution_count": 28,
   "id": "9fd660a9",
   "metadata": {},
   "outputs": [
    {
     "data": {
      "text/plain": [
       "0.3637002843080309"
      ]
     },
     "execution_count": 28,
     "metadata": {},
     "output_type": "execute_result"
    }
   ],
   "source": [
    "logreg.score(X_test, y_test)"
   ]
  },
  {
   "cell_type": "code",
   "execution_count": 29,
   "id": "188ff462",
   "metadata": {},
   "outputs": [
    {
     "data": {
      "text/plain": [
       "0.34314522677411785"
      ]
     },
     "execution_count": 29,
     "metadata": {},
     "output_type": "execute_result"
    }
   ],
   "source": [
    "f1(y_test, y_pred, average='macro')    # F1-score multilabel"
   ]
  },
  {
   "cell_type": "code",
   "execution_count": 30,
   "id": "75ffd642",
   "metadata": {},
   "outputs": [
    {
     "data": {
      "image/png": "[encoded data removed]",
      "text/plain": [
       "<Figure size 720x432 with 2 Axes>"
      ]
     },
     "metadata": {
      "needs_background": "light"
     },
     "output_type": "display_data"
    }
   ],
   "source": [
    "conf_matrix_rate=cm(y_test, y_pred)/sum(sum(cm(y_test, y_pred)))    # confusion matrix as a rate\n",
    "\n",
    "\n",
    "fig, ax = plt.subplots(figsize=(10,6))\n",
    "\n",
    "ax=sns.heatmap(conf_matrix_rate, \n",
    "               annot=True, \n",
    "               fmt='.4f',\n",
    "               ax=ax)\n",
    "\n",
    "plt.title('Confusion Matrix')\n",
    "plt.ylabel('Truth')\n",
    "plt.xlabel('Prediction')\n",
    "plt.show();"
   ]
  },
  {
   "cell_type": "markdown",
   "id": "4692f406",
   "metadata": {},
   "source": [
    "## 8 - More models\n",
    "\n",
    "We want to try another model, looking for a better accuracy. Which one you'll choose?"
   ]
  },
  {
   "cell_type": "code",
   "execution_count": 32,
   "id": "8e73fefd",
   "metadata": {},
   "outputs": [
    {
     "data": {
      "text/plain": [
       "RandomForestClassifier()"
      ]
     },
     "execution_count": 32,
     "metadata": {},
     "output_type": "execute_result"
    }
   ],
   "source": [
    "# your code here\n",
    "\n",
    "rfc=RFC()\n",
    "rfc.fit(X_train, y_train)"
   ]
  },
  {
   "cell_type": "code",
   "execution_count": 33,
   "id": "e1949ad1",
   "metadata": {},
   "outputs": [
    {
     "data": {
      "text/plain": [
       "0.4745939861714102"
      ]
     },
     "execution_count": 33,
     "metadata": {},
     "output_type": "execute_result"
    }
   ],
   "source": [
    "rfc.score(X_test, y_test)"
   ]
  },
  {
   "cell_type": "code",
   "execution_count": 34,
   "id": "504321ad",
   "metadata": {},
   "outputs": [],
   "source": [
    "y_pred=rfc.predict(X_test)"
   ]
  },
  {
   "cell_type": "code",
   "execution_count": 35,
   "id": "0b4190d5",
   "metadata": {},
   "outputs": [
    {
     "data": {
      "text/plain": [
       "0.24962843806265142"
      ]
     },
     "execution_count": 35,
     "metadata": {},
     "output_type": "execute_result"
    }
   ],
   "source": [
    "f1(y_test, y_pred, average='macro')"
   ]
  },
  {
   "cell_type": "code",
   "execution_count": 36,
   "id": "6ba63783",
   "metadata": {},
   "outputs": [
    {
     "data": {
      "image/png": "[encoded data removed]",
      "text/plain": [
       "<Figure size 720x432 with 2 Axes>"
      ]
     },
     "metadata": {
      "needs_background": "light"
     },
     "output_type": "display_data"
    }
   ],
   "source": [
    "conf_matrix_rate=cm(y_test, y_pred)/sum(sum(cm(y_test, y_pred)))    \n",
    "\n",
    "fig, ax = plt.subplots(figsize=(10,6))\n",
    "\n",
    "ax=sns.heatmap(conf_matrix_rate, \n",
    "               annot=True, \n",
    "               fmt='.4f',\n",
    "               ax=ax)\n",
    "\n",
    "plt.title('Confusion Matrix')\n",
    "plt.ylabel('Truth')\n",
    "plt.xlabel('Prediction')\n",
    "plt.show();"
   ]
  },
  {
   "cell_type": "markdown",
   "id": "7be51e24",
   "metadata": {},
   "source": [
    "**with SMOTE**"
   ]
  },
  {
   "cell_type": "code",
   "execution_count": 37,
   "id": "9bf31bda",
   "metadata": {},
   "outputs": [],
   "source": [
    "X_train, X_test, y_train, y_test=tts(X_smote, y_smote, random_state=42)"
   ]
  },
  {
   "cell_type": "code",
   "execution_count": 38,
   "id": "4c74fa43",
   "metadata": {},
   "outputs": [
    {
     "data": {
      "text/plain": [
       "RandomForestClassifier()"
      ]
     },
     "execution_count": 38,
     "metadata": {},
     "output_type": "execute_result"
    }
   ],
   "source": [
    "rfc=RFC()\n",
    "rfc.fit(X_train, y_train)"
   ]
  },
  {
   "cell_type": "code",
   "execution_count": 39,
   "id": "d4f4407d",
   "metadata": {},
   "outputs": [
    {
     "data": {
      "text/plain": [
       "0.7529882914004463"
      ]
     },
     "execution_count": 39,
     "metadata": {},
     "output_type": "execute_result"
    }
   ],
   "source": [
    "rfc.score(X_test, y_test)"
   ]
  },
  {
   "cell_type": "code",
   "execution_count": 40,
   "id": "302359c8",
   "metadata": {},
   "outputs": [],
   "source": [
    "y_pred=rfc.predict(X_test)"
   ]
  },
  {
   "cell_type": "code",
   "execution_count": 41,
   "id": "0315893d",
   "metadata": {},
   "outputs": [
    {
     "data": {
      "text/plain": [
       "0.749266370284156"
      ]
     },
     "execution_count": 41,
     "metadata": {},
     "output_type": "execute_result"
    }
   ],
   "source": [
    "f1(y_test, y_pred, average='macro')"
   ]
  },
  {
   "cell_type": "code",
   "execution_count": 42,
   "id": "428bf153",
   "metadata": {},
   "outputs": [
    {
     "data": {
      "image/png": "[encoded data removed]",
      "text/plain": [
       "<Figure size 720x432 with 2 Axes>"
      ]
     },
     "metadata": {
      "needs_background": "light"
     },
     "output_type": "display_data"
    }
   ],
   "source": [
    "conf_matrix_rate=cm(y_test, y_pred)/sum(sum(cm(y_test, y_pred)))    \n",
    "\n",
    "fig, ax = plt.subplots(figsize=(10,6))\n",
    "\n",
    "ax=sns.heatmap(conf_matrix_rate, \n",
    "               annot=True, \n",
    "               fmt='.4f',\n",
    "               ax=ax)\n",
    "\n",
    "plt.title('Confusion Matrix')\n",
    "plt.ylabel('Truth')\n",
    "plt.xlabel('Prediction')\n",
    "plt.show();"
   ]
  },
  {
   "cell_type": "markdown",
   "id": "4f76c1be",
   "metadata": {},
   "source": [
    "## 9 - Conclusions\n",
    "\n",
    "\n"
   ]
  },
  {
   "cell_type": "code",
   "execution_count": 43,
   "id": "3f9927bc",
   "metadata": {},
   "outputs": [],
   "source": [
    "# your answers here"
   ]
  },
  {
   "cell_type": "markdown",
   "id": "94fe72f0",
   "metadata": {},
   "source": [
    "Our data has imbalanced classes, because of that, our logistic regression model has a high bias. We try to fix it with SMOTE, but in this case is not working well. It is a bit better model, but no good enough.\n",
    "\n",
    "However, when we choose another model, such random forest, SMOTE seems to work very well, improving F1-Score, almost 0.75\n",
    "\n",
    "In this case, logistic regression is a bad model, in comparision with the random forest."
   ]
  }
 ],
 "metadata": {
  "kernelspec": {
   "display_name": "clase",
   "language": "python",
   "name": "clase"
  },
  "language_info": {
   "codemirror_mode": {
    "name": "ipython",
    "version": 3
   },
   "file_extension": ".py",
   "mimetype": "text/x-python",
   "name": "python",
   "nbconvert_exporter": "python",
   "pygments_lexer": "ipython3",
   "version": "3.8.8"
  }
 },
 "nbformat": 4,
 "nbformat_minor": 5
}
