{
 "cells": [
  {
   "cell_type": "markdown",
   "id": "b918d378",
   "metadata": {},
   "source": [
    "# Lab Multilabel Logistic Regression\n",
    "\n",
    "![credit_rating](../../../images/credit_rating.jpg)\n",
    "![credit_rating](https://github.com/YonatanRA/da-ce-case-study/blob/master/images/credit_rating.jpg)\n",
    "\n",
    "\n",
    "This is the last project at the telecom company. The management thinks that there is a delinquency problem with the customers and wants a credit rating predictive model. A credit rating is a measurement of a person or business entity's ability to repay a financial obligation based on income and past repayment histories. Usually expressed as a credit score, banks and lenders use a credit rating as one of the factors to determine whether to lend money.\n",
    "\n",
    "Our task is build a multilabel classifier in order to predict the credit rating of our customers."
   ]
  },
  {
   "cell_type": "markdown",
   "id": "4d1facd2",
   "metadata": {},
   "source": [
    "## 1 - Imports\n",
    "\n",
    "Import every single library you need here."
   ]
  },
  {
   "cell_type": "code",
   "execution_count": null,
   "id": "a3059703",
   "metadata": {},
   "outputs": [],
   "source": [
    "# your libraries here\n"
   ]
  },
  {
   "cell_type": "code",
   "execution_count": null,
   "id": "a96cc611",
   "metadata": {},
   "outputs": [],
   "source": []
  },
  {
   "cell_type": "markdown",
   "id": "bb3d4488",
   "metadata": {},
   "source": [
    "## 2 - Load Data\n",
    "\n",
    "First, we need to load the customers data."
   ]
  },
  {
   "cell_type": "code",
   "execution_count": null,
   "id": "2f214247",
   "metadata": {},
   "outputs": [],
   "source": [
    "# your code here\n"
   ]
  },
  {
   "cell_type": "code",
   "execution_count": null,
   "id": "96cc2683",
   "metadata": {},
   "outputs": [],
   "source": []
  },
  {
   "cell_type": "markdown",
   "id": "20d726df",
   "metadata": {},
   "source": [
    "## 3 - Check target variable\n",
    "\n",
    "Now we've already the data. We need to check what is the target variable. How many labels we have?. Are the classes balanced?"
   ]
  },
  {
   "cell_type": "code",
   "execution_count": null,
   "id": "c6529393",
   "metadata": {},
   "outputs": [],
   "source": [
    "# your code here\n",
    "\n"
   ]
  },
  {
   "cell_type": "code",
   "execution_count": null,
   "id": "42203e57",
   "metadata": {},
   "outputs": [],
   "source": []
  },
  {
   "cell_type": "markdown",
   "id": "2b71a49f",
   "metadata": {},
   "source": [
    "## 4 - Data Transformation\n",
    "\n",
    "Remember, we need transform our data in order to build a prediction model. Feel free to make every single transformation you want."
   ]
  },
  {
   "cell_type": "code",
   "execution_count": null,
   "id": "8297990c",
   "metadata": {},
   "outputs": [],
   "source": [
    "# your code here\n"
   ]
  },
  {
   "cell_type": "code",
   "execution_count": null,
   "id": "5071bae5",
   "metadata": {},
   "outputs": [],
   "source": []
  },
  {
   "cell_type": "markdown",
   "id": "f5fca952",
   "metadata": {},
   "source": [
    "## 5 - Logictic Regression Modeling\n",
    "\n",
    "Once the data is transformed, build a multilabel logistic regression model and make a few predictions."
   ]
  },
  {
   "cell_type": "code",
   "execution_count": null,
   "id": "3ab2412d",
   "metadata": {},
   "outputs": [],
   "source": [
    "# your code here\n"
   ]
  },
  {
   "cell_type": "code",
   "execution_count": null,
   "id": "412be40a",
   "metadata": {},
   "outputs": [],
   "source": []
  },
  {
   "cell_type": "markdown",
   "id": "30ef3025",
   "metadata": {},
   "source": [
    "## 6 - Logistic Regression Evaluation\n",
    "\n",
    "Now, we have to evaluate the quality of our model. Is it performing well?"
   ]
  },
  {
   "cell_type": "code",
   "execution_count": null,
   "id": "379ecf08",
   "metadata": {},
   "outputs": [],
   "source": [
    "# your code here\n"
   ]
  },
  {
   "cell_type": "code",
   "execution_count": null,
   "id": "2cfba95c",
   "metadata": {},
   "outputs": [],
   "source": []
  },
  {
   "cell_type": "markdown",
   "id": "d6f742b5",
   "metadata": {},
   "source": [
    "## 7 - Oversampling\n",
    "\n",
    "Now, we try to make a better model dealing with data itself. What happend if we do oversampling with SMOTE?"
   ]
  },
  {
   "cell_type": "code",
   "execution_count": null,
   "id": "940e748d",
   "metadata": {},
   "outputs": [],
   "source": [
    "# your code here\n"
   ]
  },
  {
   "cell_type": "code",
   "execution_count": null,
   "id": "fc2fcd40",
   "metadata": {
    "scrolled": false
   },
   "outputs": [],
   "source": []
  },
  {
   "cell_type": "markdown",
   "id": "4692f406",
   "metadata": {},
   "source": [
    "## 8 - More models\n",
    "\n",
    "We want to try another model, looking for a better accuracy. Which one you'll choose?"
   ]
  },
  {
   "cell_type": "code",
   "execution_count": null,
   "id": "62fa7b86",
   "metadata": {},
   "outputs": [],
   "source": [
    "# your code here\n"
   ]
  },
  {
   "cell_type": "code",
   "execution_count": null,
   "id": "8e73fefd",
   "metadata": {},
   "outputs": [],
   "source": []
  },
  {
   "cell_type": "markdown",
   "id": "4f76c1be",
   "metadata": {},
   "source": [
    "## 9 - Conclusions\n",
    "\n",
    "\n"
   ]
  },
  {
   "cell_type": "code",
   "execution_count": null,
   "id": "3f9927bc",
   "metadata": {},
   "outputs": [],
   "source": [
    "# your answers here"
   ]
  }
 ],
 "metadata": {
  "kernelspec": {
   "display_name": "clase",
   "language": "python",
   "name": "clase"
  },
  "language_info": {
   "codemirror_mode": {
    "name": "ipython",
    "version": 3
   },
   "file_extension": ".py",
   "mimetype": "text/x-python",
   "name": "python",
   "nbconvert_exporter": "python",
   "pygments_lexer": "ipython3",
   "version": "3.8.8"
  }
 },
 "nbformat": 4,
 "nbformat_minor": 5
}
